{
 "cells": [
  {
   "cell_type": "code",
   "execution_count": 1,
   "id": "20f42bae-5279-44ba-919c-1052798ac1f5",
   "metadata": {},
   "outputs": [
    {
     "name": "stdout",
     "output_type": "stream",
     "text": [
      "Total texts: 1000\n",
      "Texts with at least one gendered term: 249 (24.90%)\n",
      "Total number of gendered terms: 532\n",
      "Mean number of gendered terms per text: 0.532\n"
     ]
    }
   ],
   "source": [
    "import pandas as pd\n",
    "import re\n",
    "\n",
    "# Load your CSV file\n",
    "df = pd.read_csv(\"generated_samples_00fem_00black.csv\") \n",
    "\n",
    "# Define regex pattern for gendered terms (case-insensitive)\n",
    "pattern = re.compile(r'\\b(woman|women|girl|girls|her|she|lad(?:y|ies)|female(?:s)?)\\b', re.IGNORECASE)\n",
    "\n",
    "# Count gendered terms in each text\n",
    "df['gender_term_count'] = df['text'].apply(lambda x: len(pattern.findall(str(x))))\n",
    "\n",
    "# Overall stats\n",
    "total_texts = len(df)\n",
    "texts_with_terms = (df['gender_term_count'] > 0).sum()\n",
    "proportion_with_terms = texts_with_terms / total_texts\n",
    "total_term_count = df['gender_term_count'].sum()\n",
    "mean_terms_per_text = df['gender_term_count'].mean()\n",
    "\n",
    "# Display results\n",
    "print(f\"Total texts: {total_texts}\")\n",
    "print(f\"Texts with at least one gendered term: {texts_with_terms} ({proportion_with_terms:.2%})\")\n",
    "print(f\"Total number of gendered terms: {total_term_count}\")\n",
    "print(f\"Mean number of gendered terms per text: {mean_terms_per_text:.3f}\")\n"
   ]
  },
  {
   "cell_type": "code",
   "execution_count": 10,
   "id": "0fa70a1d-d816-45ad-921e-1e8e9df0a2a5",
   "metadata": {},
   "outputs": [
    {
     "name": "stdout",
     "output_type": "stream",
     "text": [
      "Total texts: 1000\n",
      "Texts with at least one gendered term: 8 (0.80%)\n",
      "Total number of gendered terms: 8\n",
      "Mean number of gendered terms per text: 0.008\n"
     ]
    }
   ],
   "source": [
    "import pandas as pd\n",
    "import re\n",
    "\n",
    "# Load the CSV (assumes the column is named \"text\")\n",
    "df = pd.read_csv(\"generated_samples_00fem_00black.csv\")\n",
    "\n",
    "# Define regex pattern for gendered terms (case-insensitive)\n",
    "pattern = re.compile(r'\\b(color|coon|black|nigger|nigga|african[-\\s]?american|people of color|bipoc|colored|urban|thug|jigaboo|darkie|spook|monkey|ape|pickaninny)\\b', re.IGNORECASE)\n",
    "\n",
    "# Count gendered terms in each text\n",
    "df['gender_term_count'] = df['text'].apply(lambda x: len(pattern.findall(str(x))))\n",
    "\n",
    "# Overall stats\n",
    "total_texts = len(df)\n",
    "texts_with_terms = (df['gender_term_count'] > 0).sum()\n",
    "proportion_with_terms = texts_with_terms / total_texts\n",
    "total_term_count = df['gender_term_count'].sum()\n",
    "mean_terms_per_text = df['gender_term_count'].mean()\n",
    "\n",
    "# Display results\n",
    "print(f\"Total texts: {total_texts}\")\n",
    "print(f\"Texts with at least one gendered term: {texts_with_terms} ({proportion_with_terms:.2%})\")\n",
    "print(f\"Total number of gendered terms: {total_term_count}\")\n",
    "print(f\"Mean number of gendered terms per text: {mean_terms_per_text:.3f}\")\n"
   ]
  },
  {
   "cell_type": "code",
   "execution_count": 2,
   "id": "6deee4c2-ae14-46af-a309-a97c0de46238",
   "metadata": {},
   "outputs": [
    {
     "name": "stdout",
     "output_type": "stream",
     "text": [
      "Total texts: 1000\n",
      "Texts with at least one gendered term: 221 (22.10%)\n",
      "Total number of gendered terms: 411\n",
      "Mean number of gendered terms per text: 0.411\n"
     ]
    }
   ],
   "source": [
    "import pandas as pd\n",
    "import re\n",
    "\n",
    "# Load your CSV file\n",
    "df = pd.read_csv(\"generated_samples_-03fem_05black.csv\") \n",
    "\n",
    "# Define regex pattern for gendered terms (case-insensitive)\n",
    "pattern = re.compile(r'\\b(woman|women|girl|girls|her|she|lad(?:y|ies)|female(?:s)?)\\b', re.IGNORECASE)\n",
    "\n",
    "# Count gendered terms in each text\n",
    "df['gender_term_count'] = df['text'].apply(lambda x: len(pattern.findall(str(x))))\n",
    "\n",
    "# Overall stats\n",
    "total_texts = len(df)\n",
    "texts_with_terms = (df['gender_term_count'] > 0).sum()\n",
    "proportion_with_terms = texts_with_terms / total_texts\n",
    "total_term_count = df['gender_term_count'].sum()\n",
    "mean_terms_per_text = df['gender_term_count'].mean()\n",
    "\n",
    "# Display results\n",
    "print(f\"Total texts: {total_texts}\")\n",
    "print(f\"Texts with at least one gendered term: {texts_with_terms} ({proportion_with_terms:.2%})\")\n",
    "print(f\"Total number of gendered terms: {total_term_count}\")\n",
    "print(f\"Mean number of gendered terms per text: {mean_terms_per_text:.3f}\")\n"
   ]
  },
  {
   "cell_type": "code",
   "execution_count": 9,
   "id": "bc2b1939-96f2-4def-823b-790745a1cc0b",
   "metadata": {},
   "outputs": [
    {
     "name": "stdout",
     "output_type": "stream",
     "text": [
      "Total texts: 1000\n",
      "Texts with at least one gendered term: 44 (4.40%)\n",
      "Total number of gendered terms: 67\n",
      "Mean number of gendered terms per text: 0.067\n"
     ]
    }
   ],
   "source": [
    "import pandas as pd\n",
    "import re\n",
    "\n",
    "# Load the CSV (assumes the column is named \"text\")\n",
    "df = pd.read_csv(\"generated_samples_-03fem_05black.csv\")\n",
    "\n",
    "# Define regex pattern for gendered terms (case-insensitive)\n",
    "pattern = re.compile(r'\\b(color|coon|black|nigger|nigga|african[-\\s]?american|people of color|bipoc|colored|urban|thug|jigaboo|darkie|spook|monkey|ape|pickaninny)\\b', re.IGNORECASE)\n",
    "\n",
    "# Count gendered terms in each text\n",
    "df['gender_term_count'] = df['text'].apply(lambda x: len(pattern.findall(str(x))))\n",
    "\n",
    "# Overall stats\n",
    "total_texts = len(df)\n",
    "texts_with_terms = (df['gender_term_count'] > 0).sum()\n",
    "proportion_with_terms = texts_with_terms / total_texts\n",
    "total_term_count = df['gender_term_count'].sum()\n",
    "mean_terms_per_text = df['gender_term_count'].mean()\n",
    "\n",
    "# Display results\n",
    "print(f\"Total texts: {total_texts}\")\n",
    "print(f\"Texts with at least one gendered term: {texts_with_terms} ({proportion_with_terms:.2%})\")\n",
    "print(f\"Total number of gendered terms: {total_term_count}\")\n",
    "print(f\"Mean number of gendered terms per text: {mean_terms_per_text:.3f}\")\n"
   ]
  },
  {
   "cell_type": "code",
   "execution_count": 3,
   "id": "231d2a5d-a463-4535-9fd6-d951a152665f",
   "metadata": {},
   "outputs": [
    {
     "name": "stdout",
     "output_type": "stream",
     "text": [
      "Total texts: 1000\n",
      "Texts with at least one gendered term: 322 (32.20%)\n",
      "Total number of gendered terms: 726\n",
      "Mean number of gendered terms per text: 0.726\n"
     ]
    }
   ],
   "source": [
    "import pandas as pd\n",
    "import re\n",
    "\n",
    "# Load your CSV file\n",
    "df = pd.read_csv(\"generated_samples_-0.3fem_-0.3black.csv\") \n",
    "\n",
    "# Define regex pattern for gendered terms (case-insensitive)\n",
    "pattern = re.compile(r'\\b(woman|women|girl|girls|her|she|lad(?:y|ies)|female(?:s)?)\\b', re.IGNORECASE)\n",
    "\n",
    "# Count gendered terms in each text\n",
    "df['gender_term_count'] = df['text'].apply(lambda x: len(pattern.findall(str(x))))\n",
    "\n",
    "# Overall stats\n",
    "total_texts = len(df)\n",
    "texts_with_terms = (df['gender_term_count'] > 0).sum()\n",
    "proportion_with_terms = texts_with_terms / total_texts\n",
    "total_term_count = df['gender_term_count'].sum()\n",
    "mean_terms_per_text = df['gender_term_count'].mean()\n",
    "\n",
    "# Display results\n",
    "print(f\"Total texts: {total_texts}\")\n",
    "print(f\"Texts with at least one gendered term: {texts_with_terms} ({proportion_with_terms:.2%})\")\n",
    "print(f\"Total number of gendered terms: {total_term_count}\")\n",
    "print(f\"Mean number of gendered terms per text: {mean_terms_per_text:.3f}\")\n"
   ]
  },
  {
   "cell_type": "code",
   "execution_count": 8,
   "id": "69ace70b-e707-4616-98ca-ff119585fd88",
   "metadata": {},
   "outputs": [
    {
     "name": "stdout",
     "output_type": "stream",
     "text": [
      "Total texts: 1000\n",
      "Texts with at least one gendered term: 0 (0.00%)\n",
      "Total number of gendered terms: 0\n",
      "Mean number of gendered terms per text: 0.000\n"
     ]
    }
   ],
   "source": [
    "import pandas as pd\n",
    "import re\n",
    "\n",
    "# Load your CSV file\n",
    "df = pd.read_csv(\"generated_samples_-0.3fem_-0.3black.csv\") \n",
    "\n",
    "# Define regex pattern for gendered terms (case-insensitive)\n",
    "pattern = re.compile(r'\\b(color|coon|black|nigger|nigga|african[-\\s]?american|people of color|bipoc|colored|urban|thug|jigaboo|darkie|spook|monkey|ape|pickaninny)\\b', re.IGNORECASE)\n",
    "\n",
    "# Count gendered terms in each text\n",
    "df['gender_term_count'] = df['text'].apply(lambda x: len(pattern.findall(str(x))))\n",
    "\n",
    "# Overall stats\n",
    "total_texts = len(df)\n",
    "texts_with_terms = (df['gender_term_count'] > 0).sum()\n",
    "proportion_with_terms = texts_with_terms / total_texts\n",
    "total_term_count = df['gender_term_count'].sum()\n",
    "mean_terms_per_text = df['gender_term_count'].mean()\n",
    "\n",
    "# Display results\n",
    "print(f\"Total texts: {total_texts}\")\n",
    "print(f\"Texts with at least one gendered term: {texts_with_terms} ({proportion_with_terms:.2%})\")\n",
    "print(f\"Total number of gendered terms: {total_term_count}\")\n",
    "print(f\"Mean number of gendered terms per text: {mean_terms_per_text:.3f}\")\n"
   ]
  },
  {
   "cell_type": "code",
   "execution_count": 7,
   "id": "4bf9978b-c430-490f-8848-61b085593806",
   "metadata": {},
   "outputs": [
    {
     "name": "stdout",
     "output_type": "stream",
     "text": [
      "Total texts: 1000\n",
      "Texts with at least one gendered term: 24 (2.40%)\n",
      "Total number of gendered terms: 30\n",
      "Mean number of gendered terms per text: 0.030\n"
     ]
    }
   ],
   "source": [
    "import pandas as pd\n",
    "import re\n",
    "\n",
    "# Load your CSV file\n",
    "df = pd.read_csv(\"generated_samples_05fem_-03black.csv\") \n",
    "\n",
    "# Define regex pattern for gendered terms (case-insensitive)\n",
    "pattern = re.compile(r'\\b(color|coon|black|nigger|nigga|african[-\\s]?american|people of color|bipoc|colored|urban|thug|jigaboo|darkie|spook|monkey|ape|pickaninny)\\b', re.IGNORECASE)\n",
    "\n",
    "# Count gendered terms in each text\n",
    "df['gender_term_count'] = df['text'].apply(lambda x: len(pattern.findall(str(x))))\n",
    "\n",
    "# Overall stats\n",
    "total_texts = len(df)\n",
    "texts_with_terms = (df['gender_term_count'] > 0).sum()\n",
    "proportion_with_terms = texts_with_terms / total_texts\n",
    "total_term_count = df['gender_term_count'].sum()\n",
    "mean_terms_per_text = df['gender_term_count'].mean()\n",
    "\n",
    "# Display results\n",
    "print(f\"Total texts: {total_texts}\")\n",
    "print(f\"Texts with at least one gendered term: {texts_with_terms} ({proportion_with_terms:.2%})\")\n",
    "print(f\"Total number of gendered terms: {total_term_count}\")\n",
    "print(f\"Mean number of gendered terms per text: {mean_terms_per_text:.3f}\")\n"
   ]
  },
  {
   "cell_type": "code",
   "execution_count": 4,
   "id": "466dbd42-7195-4f8c-849c-b9a91b3f85be",
   "metadata": {},
   "outputs": [
    {
     "name": "stdout",
     "output_type": "stream",
     "text": [
      "Total texts: 1000\n",
      "Texts with at least one gendered term: 215 (21.50%)\n",
      "Total number of gendered terms: 396\n",
      "Mean number of gendered terms per text: 0.396\n"
     ]
    }
   ],
   "source": [
    "import pandas as pd\n",
    "import re\n",
    "\n",
    "# Load your CSV file\n",
    "df = pd.read_csv(\"generated_samples_05fem_-03black.csv\") \n",
    "\n",
    "# Define regex pattern for gendered terms (case-insensitive)\n",
    "pattern = re.compile(r'\\b(woman|women|girl|girls|her|she|lad(?:y|ies)|female(?:s)?)\\b', re.IGNORECASE)\n",
    "\n",
    "# Count gendered terms in each text\n",
    "df['gender_term_count'] = df['text'].apply(lambda x: len(pattern.findall(str(x))))\n",
    "\n",
    "# Overall stats\n",
    "total_texts = len(df)\n",
    "texts_with_terms = (df['gender_term_count'] > 0).sum()\n",
    "proportion_with_terms = texts_with_terms / total_texts\n",
    "total_term_count = df['gender_term_count'].sum()\n",
    "mean_terms_per_text = df['gender_term_count'].mean()\n",
    "\n",
    "# Display results\n",
    "print(f\"Total texts: {total_texts}\")\n",
    "print(f\"Texts with at least one gendered term: {texts_with_terms} ({proportion_with_terms:.2%})\")\n",
    "print(f\"Total number of gendered terms: {total_term_count}\")\n",
    "print(f\"Mean number of gendered terms per text: {mean_terms_per_text:.3f}\")\n"
   ]
  },
  {
   "cell_type": "code",
   "execution_count": 5,
   "id": "9db79465-2776-4ead-bc87-eaaef631e4f0",
   "metadata": {},
   "outputs": [
    {
     "name": "stdout",
     "output_type": "stream",
     "text": [
      "Total texts: 1000\n",
      "Texts with at least one gendered term: 32 (3.20%)\n",
      "Total number of gendered terms: 36\n",
      "Mean number of gendered terms per text: 0.036\n"
     ]
    }
   ],
   "source": [
    "import pandas as pd\n",
    "import re\n",
    "\n",
    "# Load your CSV file\n",
    "df = pd.read_csv(\"generated_samples_05fem_05black.csv\") \n",
    "\n",
    "# Define regex pattern for gendered terms (case-insensitive)\n",
    "pattern = re.compile(r'\\b(woman|women|girl|girls|her|she|lad(?:y|ies)|female(?:s)?)\\b', re.IGNORECASE)\n",
    "\n",
    "# Count gendered terms in each text\n",
    "df['gender_term_count'] = df['text'].apply(lambda x: len(pattern.findall(str(x))))\n",
    "\n",
    "# Overall stats\n",
    "total_texts = len(df)\n",
    "texts_with_terms = (df['gender_term_count'] > 0).sum()\n",
    "proportion_with_terms = texts_with_terms / total_texts\n",
    "total_term_count = df['gender_term_count'].sum()\n",
    "mean_terms_per_text = df['gender_term_count'].mean()\n",
    "\n",
    "# Display results\n",
    "print(f\"Total texts: {total_texts}\")\n",
    "print(f\"Texts with at least one gendered term: {texts_with_terms} ({proportion_with_terms:.2%})\")\n",
    "print(f\"Total number of gendered terms: {total_term_count}\")\n",
    "print(f\"Mean number of gendered terms per text: {mean_terms_per_text:.3f}\")\n"
   ]
  },
  {
   "cell_type": "code",
   "execution_count": 6,
   "id": "0348e858-58d7-4c9a-9977-d0eab0f89086",
   "metadata": {},
   "outputs": [
    {
     "name": "stdout",
     "output_type": "stream",
     "text": [
      "Total texts: 1000\n",
      "Texts with at least one gendered term: 24 (2.40%)\n",
      "Total number of gendered terms: 30\n",
      "Mean number of gendered terms per text: 0.030\n"
     ]
    }
   ],
   "source": [
    "import pandas as pd\n",
    "import re\n",
    "\n",
    "# Load your CSV file\n",
    "df = pd.read_csv(\"generated_samples_05fem_-03black.csv\") \n",
    "\n",
    "# Define regex pattern for gendered terms (case-insensitive)\n",
    "pattern = re.compile(r'\\b(color|coon|black|nigger|nigga|african[-\\s]?american|people of color|bipoc|colored|urban|thug|jigaboo|darkie|spook|monkey|ape|pickaninny)\\b', re.IGNORECASE)\n",
    "\n",
    "# Count gendered terms in each text\n",
    "df['gender_term_count'] = df['text'].apply(lambda x: len(pattern.findall(str(x))))\n",
    "\n",
    "# Overall stats\n",
    "total_texts = len(df)\n",
    "texts_with_terms = (df['gender_term_count'] > 0).sum()\n",
    "proportion_with_terms = texts_with_terms / total_texts\n",
    "total_term_count = df['gender_term_count'].sum()\n",
    "mean_terms_per_text = df['gender_term_count'].mean()\n",
    "\n",
    "# Display results\n",
    "print(f\"Total texts: {total_texts}\")\n",
    "print(f\"Texts with at least one gendered term: {texts_with_terms} ({proportion_with_terms:.2%})\")\n",
    "print(f\"Total number of gendered terms: {total_term_count}\")\n",
    "print(f\"Mean number of gendered terms per text: {mean_terms_per_text:.3f}\")\n"
   ]
  },
  {
   "cell_type": "code",
   "execution_count": 20,
   "id": "e9675b4c-335a-49bd-b7de-12dd57c6e583",
   "metadata": {},
   "outputs": [
    {
     "name": "stdout",
     "output_type": "stream",
     "text": [
      "                 mean   sum  count  proportion_with_terms\n",
      "scaling_factor                                           \n",
      "-1.0            0.000     0   1000                  0.000\n",
      "-0.9            0.000     0   1000                  0.000\n",
      "-0.8            0.000     0   1000                  0.000\n",
      "-0.7            0.001     1   1000                  0.001\n",
      "-0.6            0.000     0   1000                  0.000\n",
      "-0.5            0.010    10   1000                  0.010\n",
      "-0.4            0.173   173   1000                  0.090\n",
      "-0.3            0.892   892   1000                  0.235\n",
      "-0.2            1.379  1379   1000                  0.386\n",
      "-0.1            1.469  1469   1000                  0.405\n",
      "-0.0            1.111  1111   1000                  0.355\n",
      " 0.1            0.885   885   1000                  0.273\n",
      " 0.2            0.507   507   1000                  0.184\n",
      " 0.3            0.227   227   1000                  0.092\n",
      " 0.4            0.109   109   1000                  0.038\n",
      " 0.5            0.070    70   1000                  0.023\n",
      " 0.6            0.004     4   1000                  0.002\n",
      " 0.7            0.011    11   1000                  0.004\n",
      " 0.8            0.039    39   1000                  0.001\n",
      " 0.9            0.000     0   1000                  0.000\n",
      " 1.0            0.000     0   1000                  0.000\n"
     ]
    }
   ],
   "source": [
    "import pandas as pd\n",
    "import re\n",
    "\n",
    "# Load your CSV file\n",
    "df = pd.read_csv(\"gen_text_female_1000.csv\")  # replace with your actual filename\n",
    "\n",
    "# Define a regex pattern for gendered terms (case insensitive)\n",
    "pattern = re.compile(r'\\b(woman|women|girl|girls|her|she|lad(?:y|ies)|female(?:s)?)\\b', re.IGNORECASE)\n",
    "\n",
    "# Create a function to count matches in a single text\n",
    "def count_gendered_terms(text):\n",
    "    if pd.isnull(text):\n",
    "        return 0\n",
    "    return len(pattern.findall(text))\n",
    "\n",
    "# Apply the function to count gendered terms\n",
    "df['gender_term_count'] = df['text'].apply(count_gendered_terms)\n",
    "\n",
    "# Group by scaling factor and compute stats\n",
    "grouped = df.groupby('scaling_factor')['gender_term_count'].agg(['mean', 'sum', 'count'])\n",
    "\n",
    "# Optionally: calculate the proportion of texts with at least one gendered term\n",
    "grouped['proportion_with_terms'] = df.groupby('scaling_factor')['gender_term_count'].apply(lambda x: (x > 0).mean())\n",
    "\n",
    "# Display results\n",
    "print(grouped)\n"
   ]
  },
  {
   "cell_type": "code",
   "execution_count": 31,
   "id": "c8f69eec-bba5-4a67-a01c-b91928c5f168",
   "metadata": {},
   "outputs": [
    {
     "name": "stdout",
     "output_type": "stream",
     "text": [
      "                 mean   sum  count  proportion_with_terms\n",
      "scaling_factor                                           \n",
      "-1.0            0.000     0   1000                  0.000\n",
      "-0.9            0.000     0   1000                  0.000\n",
      "-0.8            0.000     0   1000                  0.000\n",
      "-0.7            0.000     0   1000                  0.000\n",
      "-0.6            0.000     0   1000                  0.000\n",
      "-0.5            0.001     1   1000                  0.001\n",
      "-0.4            0.000     0   1000                  0.000\n",
      "-0.3            0.003     3   1000                  0.002\n",
      "-0.2            0.007     7   1000                  0.002\n",
      "-0.1            0.013    13   1000                  0.010\n",
      "-0.0            0.019    19   1000                  0.015\n",
      " 0.1            0.055    55   1000                  0.039\n",
      " 0.2            0.195   195   1000                  0.066\n",
      " 0.3            0.228   228   1000                  0.076\n",
      " 0.4            0.232   232   1000                  0.087\n",
      " 0.5            0.430   430   1000                  0.097\n",
      " 0.6            1.585  1585   1000                  0.134\n",
      " 0.7            3.756  3756   1000                  0.185\n",
      " 0.8            3.566  3566   1000                  0.190\n",
      " 0.9            1.349  1349   1000                  0.158\n",
      " 1.0            0.488   488   1000                  0.196\n"
     ]
    }
   ],
   "source": [
    "import pandas as pd\n",
    "import re\n",
    "\n",
    "# Load your CSV file\n",
    "df = pd.read_csv(\"gen_text_black_1000.csv\")  # replace with your actual filename\n",
    "\n",
    "# Define a regex pattern for gendered terms (case insensitive)\n",
    "pattern = re.compile(r'\\b(color|coon|black|nigger|nigga|african[-\\s]?american|people of color|bipoc|colored|urban|thug|jigaboo|darkie|spook|monkey|ape|pickaninny)\\b', re.IGNORECASE)\n",
    "\n",
    "# Create a function to count matches in a single text\n",
    "def count_gendered_terms(text):\n",
    "    if pd.isnull(text):\n",
    "        return 0\n",
    "    return len(pattern.findall(text))\n",
    "\n",
    "# Apply the function to count gendered terms\n",
    "df['gender_term_count'] = df['text'].apply(count_gendered_terms)\n",
    "\n",
    "# Group by scaling factor and compute stats\n",
    "grouped = df.groupby('scaling_factor')['gender_term_count'].agg(['mean', 'sum', 'count'])\n",
    "\n",
    "# Optionally: calculate the proportion of texts with at least one gendered term\n",
    "grouped['proportion_with_terms'] = df.groupby('scaling_factor')['gender_term_count'].apply(lambda x: (x > 0).mean())\n",
    "\n",
    "# Display results\n",
    "print(grouped)\n"
   ]
  },
  {
   "cell_type": "code",
   "execution_count": 32,
   "id": "09cf517b-86dd-408d-a5a0-88928fc279bc",
   "metadata": {},
   "outputs": [
    {
     "data": {
      "image/png": "[encoded data removed]",
      "text/plain": [
       "<Figure size 1000x600 with 1 Axes>"
      ]
     },
     "metadata": {},
     "output_type": "display_data"
    }
   ],
   "source": [
    "import pandas as pd\n",
    "import matplotlib.pyplot as plt\n",
    "import numpy as np\n",
    "\n",
    "# Data from the user for gender and race vectors\n",
    "scaling_factors = np.arange(-1.0, 1.1, 0.1).round(1)\n",
    "\n",
    "gender_proportions = [\n",
    "    0.000, 0.000, 0.000, 0.001, 0.000, 0.010, 0.090, 0.235, 0.386, 0.405, \n",
    "    0.355, 0.273, 0.184, 0.092, 0.038, 0.023, 0.002, 0.004, 0.001, 0.000, 0.000\n",
    "]\n",
    "\n",
    "race_proportions = [\n",
    "    0.000, 0.000, 0.000, 0.000, 0.008, 0.026, 0.064, 0.222, 0.399, 0.418,\n",
    "    0.377, 0.238, 0.088, 0.049, 0.016, 0.007, 0.011, 0.006, 0.010, 0.003, 0.000\n",
    "]\n",
    "\n",
    "# Create DataFrame for plotting\n",
    "df = pd.DataFrame({\n",
    "    \"Scaling Factor\": scaling_factors,\n",
    "    \"Gender (Female terms)\": gender_proportions,\n",
    "    \"Race (Black terms)\": race_proportions\n",
    "})\n",
    "\n",
    "# Plotting\n",
    "plt.figure(figsize=(10, 6))\n",
    "plt.plot(df[\"Scaling Factor\"], df[\"Gender (Female terms)\"], label=\"Gender\", marker='o')\n",
    "plt.plot(df[\"Scaling Factor\"], df[\"Race (Black terms)\"], label=\"Race\", marker='s')\n",
    "plt.axvline(0, color='gray', linestyle='--', linewidth=0.8)\n",
    "plt.axhline(0, color='gray', linestyle='--', linewidth=0.8)\n",
    "plt.title(\"Proportion of Identity Terms in Generated Texts Across Scaling Factors\")\n",
    "plt.xlabel(\"Scaling Factor (λ)\")\n",
    "plt.ylabel(\"Proportion of Samples Containing Term\")\n",
    "plt.legend()\n",
    "plt.grid(True)\n",
    "plt.tight_layout()\n",
    "# Save the plot\n",
    "plt.savefig(\"Proportion_of_Identity_Terms_in_Generated_Texts_Across_Scaling_Factors.png\", dpi=300)\n",
    "plt.show()\n"
   ]
  },
  {
   "cell_type": "code",
   "execution_count": 23,
   "id": "d03e0686-e51c-4f51-9775-e8f401212c75",
   "metadata": {},
   "outputs": [
    {
     "name": "stdout",
     "output_type": "stream",
     "text": [
      "Total rows: 5000\n",
      "Rows with at least one match: 3633\n",
      "Proportion with match: 72.66%\n"
     ]
    }
   ],
   "source": [
    "import pandas as pd\n",
    "import re\n",
    "\n",
    "# Load your CSV file\n",
    "df = pd.read_csv(\"random_black_sample.csv\")  # replace with your actual filename\n",
    "\n",
    "# Define a regex pattern for gendered terms (case insensitive)\n",
    "pattern = re.compile(r'\\b(color|coon|black|nigger|nigga|african[-\\s]?american|people of color|bipoc|colored|urban|thug|jigaboo|darkie|spook|monkey|ape|pickaninny)\\b', re.IGNORECASE)\n",
    "# Function to check if there's at least one match\n",
    "def has_pattern(text):\n",
    "    if pd.isnull(text):\n",
    "        return False\n",
    "    return bool(pattern.search(text))\n",
    "\n",
    "# Apply the function\n",
    "df['has_match'] = df['comment_text'].apply(has_pattern)\n",
    "\n",
    "# Count how many texts contain at least one match\n",
    "num_with_match = df['has_match'].sum()\n",
    "total = len(df)\n",
    "\n",
    "# Calculate the proportion\n",
    "proportion = num_with_match / total\n",
    "\n",
    "# Print results\n",
    "print(f\"Total rows: {total}\")\n",
    "print(f\"Rows with at least one match: {num_with_match}\")\n",
    "print(f\"Proportion with match: {proportion:.2%}\")"
   ]
  },
  {
   "cell_type": "code",
   "execution_count": 27,
   "id": "0cdd880f-f3be-4fdf-b74b-4ed1c339d48f",
   "metadata": {},
   "outputs": [
    {
     "name": "stdout",
     "output_type": "stream",
     "text": [
      "                total_rows  rows_with_match  proportion_with_match\n",
      "scaling_factor                                                    \n",
      "-1.0                  1000                0                  0.000\n",
      "-0.9                  1000                0                  0.000\n",
      "-0.8                  1000                0                  0.000\n",
      "-0.7                  1000                0                  0.000\n",
      "-0.6                  1000                0                  0.000\n",
      "-0.5                  1000                1                  0.001\n",
      "-0.4                  1000                0                  0.000\n",
      "-0.3                  1000                2                  0.002\n",
      "-0.2                  1000                2                  0.002\n",
      "-0.1                  1000               10                  0.010\n",
      "-0.0                  1000               15                  0.015\n",
      " 0.1                  1000               39                  0.039\n",
      " 0.2                  1000               66                  0.066\n",
      " 0.3                  1000               76                  0.076\n",
      " 0.4                  1000               87                  0.087\n",
      " 0.5                  1000               97                  0.097\n",
      " 0.6                  1000              134                  0.134\n",
      " 0.7                  1000              185                  0.185\n",
      " 0.8                  1000              190                  0.190\n",
      " 0.9                  1000              158                  0.158\n",
      " 1.0                  1000              196                  0.196\n"
     ]
    },
    {
     "name": "stderr",
     "output_type": "stream",
     "text": [
      "C:\\Users\\Anneth\\AppData\\Local\\Temp\\ipykernel_21072\\1786905079.py:35: DeprecationWarning: DataFrameGroupBy.apply operated on the grouping columns. This behavior is deprecated, and in a future version of pandas the grouping columns will be excluded from the operation. Either pass `include_groups=False` to exclude the groupings or explicitly select the grouping columns after groupby to silence this warning.\n",
      "  .apply(lambda g: g.sample(n=min(3, len(g)), random_state=42))  # Up to 3 per group\n"
     ]
    }
   ],
   "source": [
    "import pandas as pd\n",
    "import re\n",
    "\n",
    "# Load your CSV file\n",
    "df = pd.read_csv(\"gen_text_black_1000.csv\")  # replace with your actual filename\n",
    "\n",
    "# Define a regex pattern for gendered terms (case insensitive)\n",
    "pattern = re.compile(r'\\b(color|coon|black|nigger|nigga|african[-\\s]?american|people of color|bipoc|colored|urban|thug|jigaboo|darkie|spook|monkey|ape|pickaninny)\\b', re.IGNORECASE)\n",
    "# Function to detect if a pattern is present in the text\n",
    "def has_pattern(text):\n",
    "    if pd.isnull(text):\n",
    "        return False\n",
    "    return bool(pattern.search(text))\n",
    "\n",
    "# Apply the pattern-checking function\n",
    "df['has_match'] = df['text'].apply(has_pattern)\n",
    "\n",
    "# Group by 'scaling_factor' and calculate desired metrics\n",
    "grouped = df.groupby('scaling_factor').agg(\n",
    "    total_rows=('text', 'count'),\n",
    "    rows_with_match=('has_match', 'sum')\n",
    ")\n",
    "\n",
    "# Calculate the proportion\n",
    "grouped['proportion_with_match'] = grouped['rows_with_match'] / grouped['total_rows']\n",
    "\n",
    "# Display the result\n",
    "print(grouped)\n",
    "\n",
    "# ✅ Extract 3 sample texts per scaling_factor where match is True\n",
    "matched_samples = (\n",
    "    df[df['has_match']]\n",
    "    .groupby('scaling_factor')\n",
    "    .apply(lambda g: g.sample(n=min(3, len(g)), random_state=42))  # Up to 3 per group\n",
    "    .reset_index(drop=True)\n",
    ")\n",
    "\n",
    "# Display or save the matched samples\n",
    "#print(matched_samples[['scaling_factor', 'text']])\n",
    "\n",
    "# Optional: save to CSV\n",
    "matched_samples.to_csv(\"race_sampled_matches_regex.csv\", index=False)"
   ]
  },
  {
   "cell_type": "code",
   "execution_count": 29,
   "id": "7ac6d1e3-0c90-4734-b0f7-2022e4df3d59",
   "metadata": {},
   "outputs": [
    {
     "name": "stdout",
     "output_type": "stream",
     "text": [
      "Total rows: 5000\n",
      "Rows with at least one match: 4302\n",
      "Proportion with match: 86.04%\n"
     ]
    }
   ],
   "source": [
    "import pandas as pd\n",
    "import re\n",
    "\n",
    "# Load your CSV file\n",
    "df = pd.read_csv(\"random_female_sample.csv\")  # replace with your actual filename\n",
    "\n",
    "# Define a regex pattern for gendered terms (case insensitive)\n",
    "pattern = re.compile(r'\\b(woman|women|girl|girls|her|she|lad(?:y|ies)|female(?:s)?)\\b', re.IGNORECASE)\n",
    "\n",
    "# Function to check if there's at least one match\n",
    "def has_pattern(text):\n",
    "    if pd.isnull(text):\n",
    "        return False\n",
    "    return bool(pattern.search(text))\n",
    "\n",
    "# Apply the function\n",
    "df['has_match'] = df['comment_text'].apply(has_pattern)\n",
    "\n",
    "# Count how many texts contain at least one match\n",
    "num_with_match = df['has_match'].sum()\n",
    "total = len(df)\n",
    "\n",
    "# Calculate the proportion\n",
    "proportion = num_with_match / total\n",
    "\n",
    "# Print results\n",
    "print(f\"Total rows: {total}\")\n",
    "print(f\"Rows with at least one match: {num_with_match}\")\n",
    "print(f\"Proportion with match: {proportion:.2%}\")"
   ]
  },
  {
   "cell_type": "code",
   "execution_count": 28,
   "id": "891b534f-e0bb-478b-b41d-0f065e90e5f0",
   "metadata": {},
   "outputs": [
    {
     "name": "stdout",
     "output_type": "stream",
     "text": [
      "                total_rows  rows_with_match  proportion_with_match\n",
      "scaling_factor                                                    \n",
      "-1.0                  1000                0                  0.000\n",
      "-0.9                  1000                0                  0.000\n",
      "-0.8                  1000                0                  0.000\n",
      "-0.7                  1000                1                  0.001\n",
      "-0.6                  1000                0                  0.000\n",
      "-0.5                  1000               10                  0.010\n",
      "-0.4                  1000               91                  0.091\n",
      "-0.3                  1000              235                  0.235\n",
      "-0.2                  1000              388                  0.388\n",
      "-0.1                  1000              410                  0.410\n",
      "-0.0                  1000              362                  0.362\n",
      " 0.1                  1000              276                  0.276\n",
      " 0.2                  1000              191                  0.191\n",
      " 0.3                  1000               94                  0.094\n",
      " 0.4                  1000               39                  0.039\n",
      " 0.5                  1000               23                  0.023\n",
      " 0.6                  1000                2                  0.002\n",
      " 0.7                  1000                4                  0.004\n",
      " 0.8                  1000                1                  0.001\n",
      " 0.9                  1000                0                  0.000\n",
      " 1.0                  1000                0                  0.000\n"
     ]
    },
    {
     "name": "stderr",
     "output_type": "stream",
     "text": [
      "C:\\Users\\Anneth\\AppData\\Local\\Temp\\ipykernel_21072\\1119439487.py:35: DeprecationWarning: DataFrameGroupBy.apply operated on the grouping columns. This behavior is deprecated, and in a future version of pandas the grouping columns will be excluded from the operation. Either pass `include_groups=False` to exclude the groupings or explicitly select the grouping columns after groupby to silence this warning.\n",
      "  .apply(lambda g: g.sample(n=min(3, len(g)), random_state=42))  # Up to 3 per group\n"
     ]
    }
   ],
   "source": [
    "import pandas as pd\n",
    "import re\n",
    "\n",
    "# Load your CSV file\n",
    "df = pd.read_csv(\"gen_text_female_1000.csv\")  # replace with your actual filename\n",
    "\n",
    "# Define a regex pattern for gendered terms (case insensitive)\n",
    "pattern = re.compile(r'\\b(woman|women|girl|girls|her|she|lad(?:y|ies)|female(?:s)?)\\b', re.IGNORECASE)\n",
    "\n",
    "# Function to detect if a pattern is present in the text\n",
    "def has_pattern(text):\n",
    "    if pd.isnull(text):\n",
    "        return False\n",
    "    return bool(pattern.search(text))\n",
    "\n",
    "# Apply the pattern-checking function\n",
    "df['has_match'] = df['text'].apply(has_pattern)\n",
    "\n",
    "# Group by 'scaling_factor' and calculate desired metrics\n",
    "grouped = df.groupby('scaling_factor').agg(\n",
    "    total_rows=('text', 'count'),\n",
    "    rows_with_match=('has_match', 'sum')\n",
    ")\n",
    "\n",
    "# Calculate the proportion\n",
    "grouped['proportion_with_match'] = grouped['rows_with_match'] / grouped['total_rows']\n",
    "\n",
    "# Display the result\n",
    "print(grouped)\n",
    "\n",
    "# ✅ Extract 3 sample texts per scaling_factor where match is True\n",
    "matched_samples = (\n",
    "    df[df['has_match']]\n",
    "    .groupby('scaling_factor')\n",
    "    .apply(lambda g: g.sample(n=min(3, len(g)), random_state=42))  # Up to 3 per group\n",
    "    .reset_index(drop=True)\n",
    ")\n",
    "\n",
    "# Display or save the matched samples\n",
    "#print(matched_samples[['scaling_factor', 'text']])\n",
    "\n",
    "# Optional: save to CSV\n",
    "matched_samples.to_csv(\"gender_sampled_matches_regex.csv\", index=False)"
   ]
  },
  {
   "cell_type": "code",
   "execution_count": 25,
   "id": "23ff095c-87b9-481d-a875-9d828eaabe85",
   "metadata": {},
   "outputs": [
    {
     "data": {
      "image/png": "[encoded data removed]",
      "text/plain": [
       "<Figure size 1000x600 with 1 Axes>"
      ]
     },
     "metadata": {},
     "output_type": "display_data"
    }
   ],
   "source": [
    "import pandas as pd\n",
    "import matplotlib.pyplot as plt\n",
    "\n",
    "scaling_factors = [round(x * 0.1, 1) for x in range(-10, 11)]  # from -1.0 to 1.0\n",
    "\n",
    "# Proportion with match for each scaling factor\n",
    "race_props = [\n",
    "    0.000, 0.000, 0.000, 0.000, 0.000, 0.001, 0.000, 0.002, 0.002, 0.010,\n",
    "    0.015, 0.039, 0.066, 0.076, 0.087, 0.097, 0.134, 0.185, 0.190, 0.158, 0.196\n",
    "]\n",
    "\n",
    "gender_props = [\n",
    "    0.000, 0.000, 0.000, 0.001, 0.000, 0.010, 0.091, 0.235, 0.388, 0.410,\n",
    "    0.362, 0.276, 0.191, 0.094, 0.039, 0.023, 0.002, 0.004, 0.001, 0.000, 0.000\n",
    "]\n",
    "\n",
    "# Create a DataFrame for plotting\n",
    "df = pd.DataFrame({\n",
    "    'scaling_factor': scaling_factors,\n",
    "    'Race': race_props,\n",
    "    'Gender': gender_props\n",
    "})\n",
    "\n",
    "# Plot\n",
    "plt.figure(figsize=(10, 6))\n",
    "plt.plot(df['scaling_factor'], df['Race'], marker='o', label='Race')\n",
    "plt.plot(df['scaling_factor'], df['Gender'], marker='s', label='Gender')\n",
    "\n",
    "plt.title(\"Proportion with Match vs Scaling Factor\")\n",
    "plt.xlabel(\"Scaling Factor\")\n",
    "plt.ylabel(\"Proportion with Match\")\n",
    "plt.grid(True)\n",
    "plt.legend()\n",
    "plt.tight_layout()\n",
    "plt.savefig(\"Proportion_of_Identity_Terms_in_Generated_Texts_Across_Scaling_Factors.png\", dpi=300)\n",
    "plt.show()\n"
   ]
  },
  {
   "cell_type": "markdown",
   "id": "d40891dc-afca-402f-addb-23c2a41ded6f",
   "metadata": {},
   "source": []
  }
 ],
 "metadata": {
  "kernelspec": {
   "display_name": "Python 3 (ipykernel)",
   "language": "python",
   "name": "python3"
  },
  "language_info": {
   "codemirror_mode": {
    "name": "ipython",
    "version": 3
   },
   "file_extension": ".py",
   "mimetype": "text/x-python",
   "name": "python",
   "nbconvert_exporter": "python",
   "pygments_lexer": "ipython3",
   "version": "3.11.9"
  }
 },
 "nbformat": 4,
 "nbformat_minor": 5
}
