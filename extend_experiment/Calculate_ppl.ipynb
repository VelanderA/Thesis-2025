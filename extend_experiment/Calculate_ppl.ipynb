{
 "cells": [
  {
   "cell_type": "code",
   "execution_count": 18,
   "id": "c7b3f89b-c71c-43a0-9dd0-ca6847480d80",
   "metadata": {},
   "outputs": [
    {
     "data": {
      "text/plain": [
       "'C:\\\\Users\\\\Anneth\\\\Documents\\\\GitHub\\\\Thesis-2025\\\\replicate_experiment'"
      ]
     },
     "execution_count": 18,
     "metadata": {},
     "output_type": "execute_result"
    }
   ],
   "source": [
    "pwd"
   ]
  },
  {
   "cell_type": "code",
   "execution_count": 22,
   "id": "8bd25c72-37df-44ab-a178-f3bb8bfe82a2",
   "metadata": {},
   "outputs": [],
   "source": [
    "from transformers import GPT2LMHeadModel, GPT2TokenizerFast\n",
    "from accelerate.test_utils.testing import get_backend\n",
    "\n",
    "device, _, _ = get_backend() # automatically detects the underlying device type (CUDA, CPU, XPU, MPS, etc.)\n",
    "model_id = \"./pretrained_gpt2\"\n",
    "finetuned_model_path = \"./fine_tuned_gpt2\"\n",
    "model = GPT2LMHeadModel.from_pretrained(model_id).to(device)\n",
    "tokenizer = GPT2TokenizerFast.from_pretrained(model_id)"
   ]
  },
  {
   "cell_type": "code",
   "execution_count": 4,
   "id": "745fb051-d9a6-4ecf-97c5-f03576f631c5",
   "metadata": {},
   "outputs": [
    {
     "name": "stderr",
     "output_type": "stream",
     "text": [
      "Downloading data: 100%|██████████████████████████████████████████████████████████████| 733k/733k [00:00<00:00, 811kB/s]\n",
      "Downloading data: 100%|███████████████████████████████████████████████████████████| 6.36M/6.36M [00:00<00:00, 12.1MB/s]\n",
      "Downloading data: 100%|█████████████████████████████████████████████████████████████| 657k/657k [00:00<00:00, 1.55MB/s]\n"
     ]
    },
    {
     "data": {
      "application/vnd.jupyter.widget-view+json": {
       "model_id": "5f89ca1555b74f79949884f9b5b2c44c",
       "version_major": 2,
       "version_minor": 0
      },
      "text/plain": [
       "Generating test split:   0%|          | 0/4358 [00:00<?, ? examples/s]"
      ]
     },
     "metadata": {},
     "output_type": "display_data"
    },
    {
     "data": {
      "application/vnd.jupyter.widget-view+json": {
       "model_id": "7fd4f23a71514448ba7a0c21cfd0b732",
       "version_major": 2,
       "version_minor": 0
      },
      "text/plain": [
       "Generating train split:   0%|          | 0/36718 [00:00<?, ? examples/s]"
      ]
     },
     "metadata": {},
     "output_type": "display_data"
    },
    {
     "data": {
      "application/vnd.jupyter.widget-view+json": {
       "model_id": "0afe4c265178453b80cb968b59d84835",
       "version_major": 2,
       "version_minor": 0
      },
      "text/plain": [
       "Generating validation split:   0%|          | 0/3760 [00:00<?, ? examples/s]"
      ]
     },
     "metadata": {},
     "output_type": "display_data"
    }
   ],
   "source": [
    "from datasets import load_dataset\n",
    "\n",
    "test = load_dataset(\"wikitext\", \"wikitext-2-raw-v1\", split=\"test\")\n",
    "encodings = tokenizer(\"\\n\\n\".join(test[\"text\"]), return_tensors=\"pt\")"
   ]
  },
  {
   "cell_type": "code",
   "execution_count": 31,
   "id": "81513b69-24cb-4e8f-9eab-e578a21ea721",
   "metadata": {},
   "outputs": [],
   "source": [
    "import torch\n",
    "from tqdm import tqdm\n",
    "import numpy as np\n",
    "from detoxify import Detoxify\n",
    "import gc\n",
    "from copy import deepcopy\n",
    "from transformers import AutoModelForCausalLM, AutoTokenizer\n",
    "\n",
    "# Load tokenizer and fix padding\n",
    "tokenizer = AutoTokenizer.from_pretrained(\"gpt2\")\n",
    "tokenizer.pad_token = tokenizer.eos_token  # Required for some models\n"
   ]
  },
  {
   "cell_type": "code",
   "execution_count": 53,
   "id": "c62066c8-6be1-45de-bec0-7c3304e58da8",
   "metadata": {},
   "outputs": [],
   "source": [
    "def normalize_weights(param_diff):\n",
    "    return param_diff / torch.norm(param_diff)\n",
    "    \n",
    "# Task Vector Class\n",
    "class TaskVector:\n",
    "    def __init__(self, pretrained_checkpoint, finetuned_checkpoint):\n",
    "        # Keep models on CPU initially\n",
    "        self.pretrained_model = AutoModelForCausalLM.from_pretrained(model_id).cpu()\n",
    "        self.finetuned_model = AutoModelForCausalLM.from_pretrained(finetuned_model_path).cpu()\n",
    "\n",
    "    def __neg__(self):\n",
    "        neg_vector = TaskVector.__new__(TaskVector)\n",
    "        neg_vector.pretrained_model = self.pretrained_model\n",
    "        neg_vector.finetuned_model = self.finetuned_model\n",
    "        for p_pre, p_fine in zip(\n",
    "            neg_vector.pretrained_model.parameters(), neg_vector.finetuned_model.parameters()\n",
    "        ):\n",
    "            p_fine.data = p_pre.data - p_fine.data\n",
    "        return neg_vector\n",
    "\n",
    "    def apply_to(self, base_model, scaling_coef):\n",
    "        # Move only temporarily\n",
    "        self.pretrained_model.to(device)\n",
    "        self.finetuned_model.to(device)\n",
    "        base_model = base_model.to(device)\n",
    "    \n",
    "        for p_base, p_pre, p_fine in zip(\n",
    "            base_model.parameters(),\n",
    "            self.pretrained_model.parameters(),\n",
    "            self.finetuned_model.parameters(),\n",
    "        ):\n",
    "            p_base.data += scaling_coef * normalize_weights(p_fine.data - p_pre.data)\n",
    "\n",
    "        # Clear memory here for better memory management\n",
    "        self.pretrained_model.to(\"cpu\")\n",
    "        self.finetuned_model.to(\"cpu\")\n",
    "        torch.cuda.empty_cache()\n",
    "\n",
    "        return base_model"
   ]
  },
  {
   "cell_type": "code",
   "execution_count": 60,
   "id": "bd2dd6ff-dce1-4bb5-a39e-25adb885df46",
   "metadata": {},
   "outputs": [],
   "source": [
    "# Initialize Task Vectors\n",
    "task_vector = TaskVector(model_id, finetuned_model_path)\n",
    "neg_task_vector = -task_vector\n",
    "\n",
    "# Scaling coefficients\n",
    "scaling_factors = np.arange(-1.0, 1.1, 0.1)"
   ]
  },
  {
   "cell_type": "code",
   "execution_count": 48,
   "id": "eece447f-c747-4faa-9b4b-1442457d6fd6",
   "metadata": {},
   "outputs": [],
   "source": [
    "prompt = \"You're a real\" "
   ]
  },
  {
   "cell_type": "code",
   "execution_count": 49,
   "id": "5432a8ab-6c07-4198-8a17-b25eb38066d4",
   "metadata": {},
   "outputs": [],
   "source": [
    "import torch\n",
    "from tqdm import tqdm\n",
    "\n",
    "def calculate_perplexity(model, tokenizer, encodings, device):\n",
    "    max_length = model.config.n_positions\n",
    "    stride = 512\n",
    "    seq_len = encodings.input_ids.size(1)\n",
    "    \n",
    "    nll_sum = 0.0\n",
    "    n_tokens = 0\n",
    "    prev_end_loc = 0\n",
    "    for begin_loc in tqdm(range(0, seq_len, stride)):\n",
    "        end_loc = min(begin_loc + max_length, seq_len)\n",
    "        trg_len = end_loc - prev_end_loc  # may be different from stride on last loop\n",
    "        input_ids = encodings.input_ids[:, begin_loc:end_loc].to(device)\n",
    "        target_ids = input_ids.clone()\n",
    "        target_ids[:, :-trg_len] = -100\n",
    "    \n",
    "        with torch.no_grad():\n",
    "            outputs = model(input_ids, labels=target_ids)\n",
    "    \n",
    "            # loss is calculated using CrossEntropyLoss which averages over valid labels\n",
    "            # N.B. the model only calculates loss over trg_len - 1 labels, because it internally shifts the labels\n",
    "            # to the left by 1.\n",
    "            neg_log_likelihood = outputs.loss\n",
    "    \n",
    "        # Accumulate the total negative log-likelihood and the total number of tokens\n",
    "        num_valid_tokens = (target_ids != -100).sum().item()  # number of valid tokens in target_ids\n",
    "        batch_size = target_ids.size(0)\n",
    "        num_loss_tokens = num_valid_tokens - batch_size  # subtract batch_size due to internal label shift\n",
    "        nll_sum += neg_log_likelihood * num_loss_tokens\n",
    "        n_tokens += num_loss_tokens\n",
    "    \n",
    "        prev_end_loc = end_loc\n",
    "        if end_loc == seq_len:\n",
    "            break\n",
    "    \n",
    "    avg_nll = nll_sum / n_tokens  # average negative log-likelihood per token\n",
    "    ppl = torch.exp(avg_nll)\n",
    "    print(f\"Perplexity: {ppl.item():.2f}\")\n",
    "    return ppl.item()"
   ]
  },
  {
   "cell_type": "code",
   "execution_count": 57,
   "id": "2055accb-4022-4cfd-9f0b-efdd22ad13e6",
   "metadata": {},
   "outputs": [],
   "source": [
    "# Generation function\n",
    "def generate_text(model, tokenizer, prompt, num_samples=5, max_new_tokens=100, device='cuda'):\n",
    "    model.eval()\n",
    "    model.to(device)\n",
    "    samples = []\n",
    "\n",
    "    for _ in range(num_samples):\n",
    "        inputs = tokenizer(prompt, return_tensors=\"pt\", truncation=True, padding=True, max_length=512)\n",
    "        inputs = {k: v.to(device) for k, v in inputs.items()}\n",
    "        inputs['pad_token_id'] = tokenizer.pad_token_id\n",
    "\n",
    "        with torch.no_grad():\n",
    "            output = model.generate(\n",
    "                inputs['input_ids'],\n",
    "                attention_mask=inputs['attention_mask'],\n",
    "                pad_token_id=inputs['pad_token_id'],\n",
    "                max_new_tokens=max_new_tokens,\n",
    "                do_sample=True,\n",
    "                top_k=50,\n",
    "                top_p=0.95,\n",
    "                temperature=1.0,\n",
    "            )\n",
    "        text = tokenizer.decode(output[0], skip_special_tokens=True)\n",
    "        samples.append(text)\n",
    "\n",
    "    return samples"
   ]
  },
  {
   "cell_type": "code",
   "execution_count": 51,
   "id": "bb2c689e-043c-45b0-ab78-c5aa6df8c1b9",
   "metadata": {},
   "outputs": [],
   "source": [
    "def compute_toxicity(samples):\n",
    "    toxicity_model = Detoxify(\"original\")\n",
    "    return [toxicity_model.predict(text)[\"toxicity\"] for text in samples]"
   ]
  },
  {
   "cell_type": "code",
   "execution_count": 62,
   "id": "8e43d0cd-7e49-47d7-a3ed-05634ba84af8",
   "metadata": {
    "scrolled": true
   },
   "outputs": [
    {
     "name": "stdout",
     "output_type": "stream",
     "text": [
      "\n",
      "--- Scaling factor: -1.0 ---\n"
     ]
    },
    {
     "name": "stderr",
     "output_type": "stream",
     "text": [
      "100%|███████████████████████████████████████████████████████████████████████████████▋| 560/562 [17:22<00:03,  1.86s/it]\n"
     ]
    },
    {
     "name": "stdout",
     "output_type": "stream",
     "text": [
      "Perplexity: 1333.60\n",
      "\n",
      "--- Scaling factor: -0.9 ---\n"
     ]
    },
    {
     "name": "stderr",
     "output_type": "stream",
     "text": [
      "100%|███████████████████████████████████████████████████████████████████████████████▋| 560/562 [26:34<00:05,  2.85s/it]\n"
     ]
    },
    {
     "name": "stdout",
     "output_type": "stream",
     "text": [
      "Perplexity: 747.76\n",
      "\n",
      "--- Scaling factor: -0.8 ---\n"
     ]
    },
    {
     "name": "stderr",
     "output_type": "stream",
     "text": [
      "100%|███████████████████████████████████████████████████████████████████████████████▋| 560/562 [17:31<00:03,  1.88s/it]\n"
     ]
    },
    {
     "name": "stdout",
     "output_type": "stream",
     "text": [
      "Perplexity: 374.17\n",
      "\n",
      "--- Scaling factor: -0.7 ---\n"
     ]
    },
    {
     "name": "stderr",
     "output_type": "stream",
     "text": [
      "100%|███████████████████████████████████████████████████████████████████████████████▋| 560/562 [34:08<00:07,  3.66s/it]\n"
     ]
    },
    {
     "name": "stdout",
     "output_type": "stream",
     "text": [
      "Perplexity: 172.15\n",
      "\n",
      "--- Scaling factor: -0.6 ---\n"
     ]
    },
    {
     "name": "stderr",
     "output_type": "stream",
     "text": [
      "100%|███████████████████████████████████████████████████████████████████████████████▋| 560/562 [20:42<00:04,  2.22s/it]\n"
     ]
    },
    {
     "name": "stdout",
     "output_type": "stream",
     "text": [
      "Perplexity: 82.25\n",
      "\n",
      "--- Scaling factor: -0.5 ---\n"
     ]
    },
    {
     "name": "stderr",
     "output_type": "stream",
     "text": [
      "100%|███████████████████████████████████████████████████████████████████████████████▋| 560/562 [38:06<00:08,  4.08s/it]\n"
     ]
    },
    {
     "name": "stdout",
     "output_type": "stream",
     "text": [
      "Perplexity: 46.94\n",
      "\n",
      "--- Scaling factor: -0.4 ---\n"
     ]
    },
    {
     "name": "stderr",
     "output_type": "stream",
     "text": [
      "100%|███████████████████████████████████████████████████████████████████████████████▋| 560/562 [18:34<00:03,  1.99s/it]\n"
     ]
    },
    {
     "name": "stdout",
     "output_type": "stream",
     "text": [
      "Perplexity: 34.39\n",
      "\n",
      "--- Scaling factor: -0.3 ---\n"
     ]
    },
    {
     "name": "stderr",
     "output_type": "stream",
     "text": [
      "100%|███████████████████████████████████████████████████████████████████████████████▋| 560/562 [31:10<00:06,  3.34s/it]\n"
     ]
    },
    {
     "name": "stdout",
     "output_type": "stream",
     "text": [
      "Perplexity: 29.44\n",
      "\n",
      "--- Scaling factor: -0.2 ---\n"
     ]
    },
    {
     "name": "stderr",
     "output_type": "stream",
     "text": [
      "100%|███████████████████████████████████████████████████████████████████████████████▋| 560/562 [21:36<00:04,  2.31s/it]\n"
     ]
    },
    {
     "name": "stdout",
     "output_type": "stream",
     "text": [
      "Perplexity: 26.95\n",
      "\n",
      "--- Scaling factor: -0.1 ---\n"
     ]
    },
    {
     "name": "stderr",
     "output_type": "stream",
     "text": [
      "100%|███████████████████████████████████████████████████████████████████████████████▋| 560/562 [24:20<00:05,  2.61s/it]\n"
     ]
    },
    {
     "name": "stdout",
     "output_type": "stream",
     "text": [
      "Perplexity: 25.66\n",
      "\n",
      "--- Scaling factor: -0.0 ---\n"
     ]
    },
    {
     "name": "stderr",
     "output_type": "stream",
     "text": [
      "100%|███████████████████████████████████████████████████████████████████████████████▋| 560/562 [20:31<00:04,  2.20s/it]\n"
     ]
    },
    {
     "name": "stdout",
     "output_type": "stream",
     "text": [
      "Perplexity: 25.17\n",
      "\n",
      "--- Scaling factor: 0.1 ---\n"
     ]
    },
    {
     "name": "stderr",
     "output_type": "stream",
     "text": [
      "100%|███████████████████████████████████████████████████████████████████████████████▋| 560/562 [25:17<00:05,  2.71s/it]\n"
     ]
    },
    {
     "name": "stdout",
     "output_type": "stream",
     "text": [
      "Perplexity: 25.36\n",
      "\n",
      "--- Scaling factor: 0.2 ---\n"
     ]
    },
    {
     "name": "stderr",
     "output_type": "stream",
     "text": [
      "100%|███████████████████████████████████████████████████████████████████████████████▋| 560/562 [19:46<00:04,  2.12s/it]\n"
     ]
    },
    {
     "name": "stdout",
     "output_type": "stream",
     "text": [
      "Perplexity: 26.28\n",
      "\n",
      "--- Scaling factor: 0.3 ---\n"
     ]
    },
    {
     "name": "stderr",
     "output_type": "stream",
     "text": [
      "100%|███████████████████████████████████████████████████████████████████████████████▋| 560/562 [44:47<00:09,  4.80s/it]\n"
     ]
    },
    {
     "name": "stdout",
     "output_type": "stream",
     "text": [
      "Perplexity: 28.25\n",
      "\n",
      "--- Scaling factor: 0.4 ---\n"
     ]
    },
    {
     "name": "stderr",
     "output_type": "stream",
     "text": [
      "100%|███████████████████████████████████████████████████████████████████████████████▋| 560/562 [13:30<00:02,  1.45s/it]\n"
     ]
    },
    {
     "name": "stdout",
     "output_type": "stream",
     "text": [
      "Perplexity: 31.93\n",
      "\n",
      "--- Scaling factor: 0.5 ---\n"
     ]
    },
    {
     "name": "stderr",
     "output_type": "stream",
     "text": [
      "100%|███████████████████████████████████████████████████████████████████████████████▋| 560/562 [50:17<00:10,  5.39s/it]\n"
     ]
    },
    {
     "name": "stdout",
     "output_type": "stream",
     "text": [
      "Perplexity: 39.67\n",
      "\n",
      "--- Scaling factor: 0.6 ---\n"
     ]
    },
    {
     "name": "stderr",
     "output_type": "stream",
     "text": [
      "100%|███████████████████████████████████████████████████████████████████████████████▋| 560/562 [14:54<00:03,  1.60s/it]\n"
     ]
    },
    {
     "name": "stdout",
     "output_type": "stream",
     "text": [
      "Perplexity: 58.27\n",
      "\n",
      "--- Scaling factor: 0.7 ---\n"
     ]
    },
    {
     "name": "stderr",
     "output_type": "stream",
     "text": [
      "100%|███████████████████████████████████████████████████████████████████████████████▋| 560/562 [23:57<00:05,  2.57s/it]\n"
     ]
    },
    {
     "name": "stdout",
     "output_type": "stream",
     "text": [
      "Perplexity: 105.54\n",
      "\n",
      "--- Scaling factor: 0.8 ---\n"
     ]
    },
    {
     "name": "stderr",
     "output_type": "stream",
     "text": [
      "100%|█████████████████████████████████████████████████████████████████████████████▋| 560/562 [2:16:56<00:29, 14.67s/it]\n"
     ]
    },
    {
     "name": "stdout",
     "output_type": "stream",
     "text": [
      "Perplexity: 217.78\n",
      "\n",
      "--- Scaling factor: 0.9 ---\n"
     ]
    },
    {
     "name": "stderr",
     "output_type": "stream",
     "text": [
      "100%|███████████████████████████████████████████████████████████████████████████████▋| 560/562 [24:02<00:05,  2.58s/it]\n"
     ]
    },
    {
     "name": "stdout",
     "output_type": "stream",
     "text": [
      "Perplexity: 433.45\n",
      "\n",
      "--- Scaling factor: 1.0 ---\n"
     ]
    },
    {
     "name": "stderr",
     "output_type": "stream",
     "text": [
      "100%|███████████████████████████████████████████████████████████████████████████████▋| 560/562 [22:50<00:04,  2.45s/it]"
     ]
    },
    {
     "name": "stdout",
     "output_type": "stream",
     "text": [
      "Perplexity: 787.36\n"
     ]
    },
    {
     "name": "stderr",
     "output_type": "stream",
     "text": [
      "\n"
     ]
    }
   ],
   "source": [
    "\"\"\"pos vector ppl\"\"\"\n",
    "from copy import deepcopy\n",
    "\n",
    "# Load base model just once\n",
    "base_model = AutoModelForCausalLM.from_pretrained(model_id).to(device)\n",
    "\n",
    "# Store results\n",
    "neg_to_pos_ppl_results = []\n",
    "\n",
    "for scale in scaling_factors:\n",
    "    print(f\"\\n--- Scaling factor: {scale:.1f} ---\")\n",
    "    \n",
    "    # Clone the base model (not deepcopy; reload to keep it clean)\n",
    "    scaled_model = AutoModelForCausalLM.from_pretrained(model_id).to(device)\n",
    "\n",
    "    # Apply the task vector with current scaling\n",
    "    task_vector.apply_to(scaled_model, scaling_coef=scale)\n",
    "\n",
    "    # Calculate perplexity\n",
    "    ppl = calculate_perplexity(scaled_model, tokenizer, encodings, device)\n",
    "\n",
    "    # Save result\n",
    "    neg_to_pos_ppl_results.append((scale, ppl))"
   ]
  },
  {
   "cell_type": "code",
   "execution_count": null,
   "id": "f68e9a0b-bd82-455d-8e3e-64cd54775537",
   "metadata": {},
   "outputs": [],
   "source": [
    "\"\"\"base PPL of GPT-2 small is 25.17\"\"\""
   ]
  },
  {
   "cell_type": "code",
   "execution_count": 58,
   "id": "e2d3627b-c9f0-40c4-af73-13eeae130923",
   "metadata": {
    "scrolled": true
   },
   "outputs": [
    {
     "name": "stdout",
     "output_type": "stream",
     "text": [
      "\n",
      "--- Scaling factor: 0.0 ---\n"
     ]
    },
    {
     "name": "stderr",
     "output_type": "stream",
     "text": [
      "100%|███████████████████████████████████████████████████████████████████████████████▋| 560/562 [24:29<00:05,  2.62s/it]\n"
     ]
    },
    {
     "name": "stdout",
     "output_type": "stream",
     "text": [
      "Perplexity: 25.17\n",
      "\n",
      "--- Scaling factor: 0.1 ---\n"
     ]
    },
    {
     "name": "stderr",
     "output_type": "stream",
     "text": [
      "100%|███████████████████████████████████████████████████████████████████████████████▋| 560/562 [12:15<00:02,  1.31s/it]\n"
     ]
    },
    {
     "name": "stdout",
     "output_type": "stream",
     "text": [
      "Perplexity: 25.18\n",
      "\n",
      "--- Scaling factor: 0.1 ---\n"
     ]
    },
    {
     "name": "stderr",
     "output_type": "stream",
     "text": [
      "100%|███████████████████████████████████████████████████████████████████████████████▋| 560/562 [18:55<00:04,  2.03s/it]\n"
     ]
    },
    {
     "name": "stdout",
     "output_type": "stream",
     "text": [
      "Perplexity: 25.36\n",
      "\n",
      "--- Scaling factor: 0.2 ---\n"
     ]
    },
    {
     "name": "stderr",
     "output_type": "stream",
     "text": [
      "100%|███████████████████████████████████████████████████████████████████████████████▋| 560/562 [08:02<00:01,  1.16it/s]\n"
     ]
    },
    {
     "name": "stdout",
     "output_type": "stream",
     "text": [
      "Perplexity: 25.72\n",
      "\n",
      "--- Scaling factor: 0.2 ---\n"
     ]
    },
    {
     "name": "stderr",
     "output_type": "stream",
     "text": [
      "100%|███████████████████████████████████████████████████████████████████████████████▋| 560/562 [17:45<00:03,  1.90s/it]\n"
     ]
    },
    {
     "name": "stdout",
     "output_type": "stream",
     "text": [
      "Perplexity: 26.28\n",
      "\n",
      "--- Scaling factor: 0.2 ---\n"
     ]
    },
    {
     "name": "stderr",
     "output_type": "stream",
     "text": [
      "100%|███████████████████████████████████████████████████████████████████████████████▋| 560/562 [06:15<00:01,  1.49it/s]\n"
     ]
    },
    {
     "name": "stdout",
     "output_type": "stream",
     "text": [
      "Perplexity: 27.10\n",
      "\n",
      "--- Scaling factor: 0.3 ---\n"
     ]
    },
    {
     "name": "stderr",
     "output_type": "stream",
     "text": [
      "100%|███████████████████████████████████████████████████████████████████████████████▋| 560/562 [17:06<00:03,  1.83s/it]\n"
     ]
    },
    {
     "name": "stdout",
     "output_type": "stream",
     "text": [
      "Perplexity: 28.25\n",
      "\n",
      "--- Scaling factor: 0.4 ---\n"
     ]
    },
    {
     "name": "stderr",
     "output_type": "stream",
     "text": [
      "100%|███████████████████████████████████████████████████████████████████████████████▋| 560/562 [06:23<00:01,  1.46it/s]\n"
     ]
    },
    {
     "name": "stdout",
     "output_type": "stream",
     "text": [
      "Perplexity: 29.79\n",
      "\n",
      "--- Scaling factor: 0.4 ---\n"
     ]
    },
    {
     "name": "stderr",
     "output_type": "stream",
     "text": [
      "100%|███████████████████████████████████████████████████████████████████████████████▋| 560/562 [17:06<00:03,  1.83s/it]\n"
     ]
    },
    {
     "name": "stdout",
     "output_type": "stream",
     "text": [
      "Perplexity: 31.93\n",
      "\n",
      "--- Scaling factor: 0.5 ---\n"
     ]
    },
    {
     "name": "stderr",
     "output_type": "stream",
     "text": [
      "100%|███████████████████████████████████████████████████████████████████████████████▋| 560/562 [06:23<00:01,  1.46it/s]\n"
     ]
    },
    {
     "name": "stdout",
     "output_type": "stream",
     "text": [
      "Perplexity: 35.03\n",
      "\n",
      "--- Scaling factor: 0.5 ---\n"
     ]
    },
    {
     "name": "stderr",
     "output_type": "stream",
     "text": [
      "100%|███████████████████████████████████████████████████████████████████████████████▋| 560/562 [14:30<00:03,  1.56s/it]\n"
     ]
    },
    {
     "name": "stdout",
     "output_type": "stream",
     "text": [
      "Perplexity: 39.67\n",
      "\n",
      "--- Scaling factor: 0.6 ---\n"
     ]
    },
    {
     "name": "stderr",
     "output_type": "stream",
     "text": [
      "100%|███████████████████████████████████████████████████████████████████████████████▋| 560/562 [06:23<00:01,  1.46it/s]\n"
     ]
    },
    {
     "name": "stdout",
     "output_type": "stream",
     "text": [
      "Perplexity: 46.85\n",
      "\n",
      "--- Scaling factor: 0.6 ---\n"
     ]
    },
    {
     "name": "stderr",
     "output_type": "stream",
     "text": [
      "100%|███████████████████████████████████████████████████████████████████████████████▋| 560/562 [17:06<00:03,  1.83s/it]\n"
     ]
    },
    {
     "name": "stdout",
     "output_type": "stream",
     "text": [
      "Perplexity: 58.27\n",
      "\n",
      "--- Scaling factor: 0.7 ---\n"
     ]
    },
    {
     "name": "stderr",
     "output_type": "stream",
     "text": [
      "100%|███████████████████████████████████████████████████████████████████████████████▋| 560/562 [06:19<00:01,  1.48it/s]\n"
     ]
    },
    {
     "name": "stdout",
     "output_type": "stream",
     "text": [
      "Perplexity: 76.46\n",
      "\n",
      "--- Scaling factor: 0.7 ---\n"
     ]
    },
    {
     "name": "stderr",
     "output_type": "stream",
     "text": [
      "100%|███████████████████████████████████████████████████████████████████████████████▋| 560/562 [17:06<00:03,  1.83s/it]\n"
     ]
    },
    {
     "name": "stdout",
     "output_type": "stream",
     "text": [
      "Perplexity: 105.54\n",
      "\n",
      "--- Scaling factor: 0.8 ---\n"
     ]
    },
    {
     "name": "stderr",
     "output_type": "stream",
     "text": [
      "100%|███████████████████████████████████████████████████████████████████████████████▋| 560/562 [06:23<00:01,  1.46it/s]\n"
     ]
    },
    {
     "name": "stdout",
     "output_type": "stream",
     "text": [
      "Perplexity: 150.66\n",
      "\n",
      "--- Scaling factor: 0.8 ---\n"
     ]
    },
    {
     "name": "stderr",
     "output_type": "stream",
     "text": [
      "100%|███████████████████████████████████████████████████████████████████████████████▋| 560/562 [14:29<00:03,  1.55s/it]\n"
     ]
    },
    {
     "name": "stdout",
     "output_type": "stream",
     "text": [
      "Perplexity: 217.78\n",
      "\n",
      "--- Scaling factor: 0.9 ---\n"
     ]
    },
    {
     "name": "stderr",
     "output_type": "stream",
     "text": [
      "100%|███████████████████████████████████████████████████████████████████████████████▋| 560/562 [07:07<00:01,  1.31it/s]\n"
     ]
    },
    {
     "name": "stdout",
     "output_type": "stream",
     "text": [
      "Perplexity: 310.46\n",
      "\n",
      "--- Scaling factor: 0.9 ---\n"
     ]
    },
    {
     "name": "stderr",
     "output_type": "stream",
     "text": [
      "100%|███████████████████████████████████████████████████████████████████████████████▋| 560/562 [14:30<00:03,  1.56s/it]\n"
     ]
    },
    {
     "name": "stdout",
     "output_type": "stream",
     "text": [
      "Perplexity: 433.45\n",
      "\n",
      "--- Scaling factor: 1.0 ---\n"
     ]
    },
    {
     "name": "stderr",
     "output_type": "stream",
     "text": [
      "100%|███████████████████████████████████████████████████████████████████████████████▋| 560/562 [06:23<00:01,  1.46it/s]\n"
     ]
    },
    {
     "name": "stdout",
     "output_type": "stream",
     "text": [
      "Perplexity: 592.68\n",
      "\n",
      "--- Scaling factor: 1.0 ---\n"
     ]
    },
    {
     "name": "stderr",
     "output_type": "stream",
     "text": [
      "100%|███████████████████████████████████████████████████████████████████████████████▋| 560/562 [14:26<00:03,  1.55s/it]\n"
     ]
    },
    {
     "name": "stdout",
     "output_type": "stream",
     "text": [
      "Perplexity: 787.36\n",
      "\n",
      "--- Scaling factor: 1.1 ---\n"
     ]
    },
    {
     "name": "stderr",
     "output_type": "stream",
     "text": [
      "100%|███████████████████████████████████████████████████████████████████████████████▋| 560/562 [06:23<00:01,  1.46it/s]"
     ]
    },
    {
     "name": "stdout",
     "output_type": "stream",
     "text": [
      "Perplexity: 1006.19\n"
     ]
    },
    {
     "name": "stderr",
     "output_type": "stream",
     "text": [
      "\n"
     ]
    }
   ],
   "source": [
    "\"\"\"neg vector ppl\"\"\"\n",
    "from copy import deepcopy\n",
    "\n",
    "# Load base model just once\n",
    "base_model = AutoModelForCausalLM.from_pretrained(model_id).to(device)\n",
    "\n",
    "# Store results\n",
    "neg_ppl_results = []\n",
    "\n",
    "for scale in scaling_factors:\n",
    "    print(f\"\\n--- Scaling factor: {scale:.1f} ---\")\n",
    "    \n",
    "    # Clone the base model (not deepcopy; reload to keep it clean)\n",
    "    scaled_model = AutoModelForCausalLM.from_pretrained(model_id).to(device)\n",
    "\n",
    "    # Apply the task vector with current scaling\n",
    "    neg_task_vector.apply_to(scaled_model, scaling_coef=scale)\n",
    "\n",
    "    # Calculate perplexity\n",
    "    ppl = calculate_perplexity(scaled_model, tokenizer, encodings, device)\n",
    "\n",
    "    # Save result\n",
    "    neg_ppl_results.append((scale, ppl))"
   ]
  },
  {
   "cell_type": "code",
   "execution_count": 65,
   "id": "f6dd6b0b-23da-45f8-8d75-cbaee17ab293",
   "metadata": {},
   "outputs": [
    {
     "data": {
      "image/png": "[encoded data removed]",
      "text/plain": [
       "<Figure size 800x600 with 1 Axes>"
      ]
     },
     "metadata": {},
     "output_type": "display_data"
    }
   ],
   "source": [
    "\"\"\"visaulize ppl\"\"\"\n",
    "import matplotlib.pyplot as plt\n",
    "\n",
    "# Assuming 'ppl_results' and 'neg_ppl_results' contain tuples of (scale, perplexity)\n",
    "# Example format: [(scale_1, ppl_1), (scale_2, ppl_2), ..., (scale_n, ppl_n)]\n",
    "\n",
    "# Unpack scaling factors and perplexities for both positive and negative task vectors\n",
    "scaling_factors_pos, perplexities_pos = zip(*neg_to_pos_ppl_results)\n",
    "#scaling_factors_neg, perplexities_neg = zip(*neg_ppl_results)\n",
    "\n",
    "# Create the plot\n",
    "plt.figure(figsize=(8, 6))\n",
    "\n",
    "# Plot positive task vector perplexities\n",
    "plt.plot(scaling_factors_pos, perplexities_pos, marker='o', color='b', label=\"Positive Task Vector Perplexity\")\n",
    "\n",
    "# Plot negative task vector perplexities\n",
    "#plt.plot(scaling_factors_neg, perplexities_neg, marker='x', color='r', label=\"Negative Task Vector Perplexity\")\n",
    "\n",
    "# Set titles and labels\n",
    "plt.title(\"Perplexity vs Scaling Factor (Task Vector -1 to 1)\", fontsize=16)\n",
    "plt.xlabel(\"Scaling Factor\", fontsize=12)\n",
    "plt.ylabel(\"Perplexity\", fontsize=12)\n",
    "\n",
    "# Optionally, add a grid for better readability\n",
    "plt.grid(True)\n",
    "\n",
    "# Show the legend\n",
    "plt.legend()\n",
    "\n",
    "# Display the plot\n",
    "plt.show()\n"
   ]
  },
  {
   "cell_type": "code",
   "execution_count": null,
   "id": "74f5be82-6794-4e40-8694-9ccaf071dce3",
   "metadata": {},
   "outputs": [],
   "source": []
  }
 ],
 "metadata": {
  "kernelspec": {
   "display_name": "Python 3 (ipykernel)",
   "language": "python",
   "name": "python3"
  },
  "language_info": {
   "codemirror_mode": {
    "name": "ipython",
    "version": 3
   },
   "file_extension": ".py",
   "mimetype": "text/x-python",
   "name": "python",
   "nbconvert_exporter": "python",
   "pygments_lexer": "ipython3",
   "version": "3.11.9"
  }
 },
 "nbformat": 4,
 "nbformat_minor": 5
}
