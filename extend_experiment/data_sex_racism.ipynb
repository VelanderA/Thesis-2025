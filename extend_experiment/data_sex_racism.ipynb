{
 "cells": [
  {
   "cell_type": "code",
   "execution_count": 2,
   "id": "af13b802-591c-495f-8e7c-58fd4b1bd0a3",
   "metadata": {},
   "outputs": [
    {
     "data": {
      "text/plain": [
       "'C:\\\\Users\\\\Anneth\\\\Documents\\\\GitHub\\\\Thesis-2025\\\\extend_experiment'"
      ]
     },
     "execution_count": 2,
     "metadata": {},
     "output_type": "execute_result"
    }
   ],
   "source": [
    "pwd"
   ]
  },
  {
   "cell_type": "code",
   "execution_count": 12,
   "id": "4aa6f29e-6151-4b72-aff3-2d8981740ca8",
   "metadata": {
    "scrolled": true
   },
   "outputs": [
    {
     "name": "stdout",
     "output_type": "stream",
     "text": [
      "269038\n"
     ]
    }
   ],
   "source": [
    "\"\"\"filter data to generate two new vectors\"\"\"\n",
    "import pandas as pd\n",
    "\n",
    "# Load your dataset\n",
    "df = pd.read_csv(\"./all_data_with_identities.csv\")\n",
    "df = df[df[\"split\"] == \"train\"]\n",
    "print(len(df))"
   ]
  },
  {
   "cell_type": "code",
   "execution_count": null,
   "id": "46eac8b9-4758-4a43-83db-cd05c9c00b63",
   "metadata": {},
   "outputs": [],
   "source": [
    "# All identity and toxicity columns to consider\n",
    "all_bias_cols = [\n",
    "    'funny', 'wow', 'sad', 'likes', 'disagree', 'toxicity', 'severe_toxicity',\n",
    "    'obscene', 'sexual_explicit', 'identity_attack', 'insult', 'threat',\n",
    "    'male', 'female', 'transgender', 'other_gender', 'heterosexual',\n",
    "    'homosexual_gay_or_lesbian', 'bisexual', 'other_sexual_orientation',\n",
    "    'christian', 'jewish', 'muslim', 'hindu', 'buddhist', 'atheist',\n",
    "    'other_religion', 'black', 'white', 'asian', 'latino',\n",
    "    'other_race_or_ethnicity', 'physical_disability',\n",
    "    'intellectual_or_learning_disability', 'psychiatric_or_mental_illness',\n",
    "    'other_disability', 'identity_annotator_count', 'toxicity_annotator_count',\n",
    "    'LGBTQ', 'other_religions', 'asian_latino_etc', 'disability_any',\n",
    "    'identity_any', 'num_identities', 'more_than_one_identity',\n",
    "    'na_gender', 'na_orientation', 'na_religion', 'na_race', 'na_disability'\n",
    "]"
   ]
  },
  {
   "cell_type": "code",
   "execution_count": 40,
   "id": "99bcebc4-a95c-4088-bc40-b05f6350a67a",
   "metadata": {},
   "outputs": [
    {
     "name": "stdout",
     "output_type": "stream",
     "text": [
      "Filtered rows: 19703\n"
     ]
    }
   ],
   "source": [
    "# Filter rows where 'female' is not 0.0 and 'other_gender' is 0.0\n",
    "filtered_df = df[(df['female'] != 0.0) & (df['male'] == 0.0) & (df['other_gender'] == 0.0) & (df['disagree'] == 0.0) & (df['other_sexual_orientation'] == 0.0) & (df['transgender'] == 0.0)& (df['other_gender'] == 0.0)]\n",
    "\n",
    "# Output the number of filtered rows\n",
    "print(f\"Filtered rows: {len(filtered_df)}\")\n",
    "\n",
    "# Optionally, save the filtered dataset\n",
    "filtered_df[['comment_text']].to_csv(\"filtered_female_comments.csv\", index=False)"
   ]
  },
  {
   "cell_type": "code",
   "execution_count": 44,
   "id": "538d55ea-730f-4f4d-bdfc-05667a37c015",
   "metadata": {},
   "outputs": [
    {
     "name": "stdout",
     "output_type": "stream",
     "text": [
      "Filtered rows: 7464\n"
     ]
    }
   ],
   "source": [
    "# Filter rows where 'female' is not 0.0 and 'other_gender' is 0.0\n",
    "filtered_df = df[(df['black'] != 0.0) & (df['white'] == 0.0)] #& (df['asian'] == 0.0) & (df['disagree'] == 0.0) & (df['latino'] == 0.0) & (df['other_race_or_ethnicity'] == 0.0)]\n",
    "\n",
    "# Output the number of filtered rows\n",
    "print(f\"Filtered rows: {len(filtered_df)}\")\n",
    "\n",
    "# Optionally, save the filtered dataset\n",
    "filtered_df[['comment_text']].to_csv(\"filtered_black_comments.csv\", index=False)"
   ]
  },
  {
   "cell_type": "code",
   "execution_count": 45,
   "id": "49a9f0e2-18ad-4f61-ba2d-0c2eecd0836f",
   "metadata": {},
   "outputs": [
    {
     "name": "stdout",
     "output_type": "stream",
     "text": [
      "Random sample size for female: 5000\n",
      "Random sample size for black: 5000\n"
     ]
    }
   ],
   "source": [
    "# Randomly select 5000 rows for 'female' biased dataset\n",
    "random_female_sample = filtered_df.sample(n=5000, random_state=42)\n",
    "\n",
    "# Randomly select 5000 rows for 'black' biased dataset\n",
    "random_black_sample = filtered_df.sample(n=5000, random_state=42)\n",
    "\n",
    "# Save the random samples to CSV files\n",
    "random_female_sample[['comment_text']].to_csv(\"random_female_sample.csv\", index=False)\n",
    "random_black_sample[['comment_text']].to_csv(\"random_black_sample.csv\", index=False)\n",
    "\n",
    "# Output the size of the random samples\n",
    "print(f\"Random sample size for female: {len(random_female_sample)}\")\n",
    "print(f\"Random sample size for black: {len(random_black_sample)}\")"
   ]
  }
 ],
 "metadata": {
  "kernelspec": {
   "display_name": "Python 3 (ipykernel)",
   "language": "python",
   "name": "python3"
  },
  "language_info": {
   "codemirror_mode": {
    "name": "ipython",
    "version": 3
   },
   "file_extension": ".py",
   "mimetype": "text/x-python",
   "name": "python",
   "nbconvert_exporter": "python",
   "pygments_lexer": "ipython3",
   "version": "3.11.9"
  }
 },
 "nbformat": 4,
 "nbformat_minor": 5
}
