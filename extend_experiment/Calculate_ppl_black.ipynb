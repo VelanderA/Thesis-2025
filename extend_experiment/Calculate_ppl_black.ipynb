{
 "cells": [
  {
   "cell_type": "code",
   "execution_count": 1,
   "id": "c7b3f89b-c71c-43a0-9dd0-ca6847480d80",
   "metadata": {},
   "outputs": [
    {
     "data": {
      "text/plain": [
       "'C:\\\\Users\\\\Anneth\\\\Documents\\\\GitHub\\\\Thesis-2025\\\\replicate_experiment'"
      ]
     },
     "execution_count": 1,
     "metadata": {},
     "output_type": "execute_result"
    }
   ],
   "source": [
    "pwd"
   ]
  },
  {
   "cell_type": "code",
   "execution_count": 12,
   "id": "8bd25c72-37df-44ab-a178-f3bb8bfe82a2",
   "metadata": {},
   "outputs": [],
   "source": [
    "from transformers import GPT2LMHeadModel, GPT2TokenizerFast\n",
    "from accelerate.test_utils.testing import get_backend\n",
    "\n",
    "device, _, _ = get_backend() # automatically detects the underlying device type (CUDA, CPU, XPU, MPS, etc.)\n",
    "model_id = \"./pretrained_gpt2\"\n",
    "finetuned_model_path = \"./finetuned_gpt2_black\"\n",
    "model = GPT2LMHeadModel.from_pretrained(model_id).to(device)\n",
    "tokenizer = GPT2TokenizerFast.from_pretrained(model_id)"
   ]
  },
  {
   "cell_type": "code",
   "execution_count": 13,
   "id": "745fb051-d9a6-4ecf-97c5-f03576f631c5",
   "metadata": {},
   "outputs": [
    {
     "name": "stderr",
     "output_type": "stream",
     "text": [
      "Using the latest cached version of the dataset since wikitext couldn't be found on the Hugging Face Hub\n",
      "Found the latest cached dataset configuration 'wikitext-2-raw-v1' at C:\\Users\\Anneth\\.cache\\huggingface\\datasets\\wikitext\\wikitext-2-raw-v1\\0.0.0\\b08601e04326c79dfdd32d625aee71d232d685c3 (last modified on Wed Apr  9 15:04:05 2025).\n",
      "Token indices sequence length is longer than the specified maximum sequence length for this model (287644 > 1024). Running this sequence through the model will result in indexing errors\n"
     ]
    }
   ],
   "source": [
    "from datasets import load_dataset\n",
    "\n",
    "test = load_dataset(\"wikitext\", \"wikitext-2-raw-v1\", split=\"test\")\n",
    "encodings = tokenizer(\"\\n\\n\".join(test[\"text\"]), return_tensors=\"pt\")"
   ]
  },
  {
   "cell_type": "code",
   "execution_count": 14,
   "id": "81513b69-24cb-4e8f-9eab-e578a21ea721",
   "metadata": {},
   "outputs": [],
   "source": [
    "import torch\n",
    "from tqdm import tqdm\n",
    "import numpy as np\n",
    "from detoxify import Detoxify\n",
    "import gc\n",
    "from copy import deepcopy\n",
    "from transformers import AutoModelForCausalLM, AutoTokenizer\n",
    "\n",
    "# Load tokenizer and fix padding\n",
    "tokenizer = AutoTokenizer.from_pretrained(\"gpt2\")\n",
    "tokenizer.pad_token = tokenizer.eos_token  # Required for some models\n"
   ]
  },
  {
   "cell_type": "code",
   "execution_count": 15,
   "id": "c62066c8-6be1-45de-bec0-7c3304e58da8",
   "metadata": {},
   "outputs": [],
   "source": [
    "def normalize_weights(param_diff, eps=1e-6):\n",
    "    norm = torch.norm(param_diff)\n",
    "    return param_diff / (norm + eps)    \n",
    "    \n",
    "# Task Vector Class\n",
    "class TaskVector:\n",
    "    def __init__(self, pretrained_checkpoint, finetuned_checkpoint):\n",
    "        # Keep models on CPU initially\n",
    "        self.pretrained_model = AutoModelForCausalLM.from_pretrained(model_id).cpu()\n",
    "        self.finetuned_model = AutoModelForCausalLM.from_pretrained(finetuned_model_path).cpu()\n",
    "\n",
    "    def __neg__(self):\n",
    "        neg_vector = TaskVector.__new__(TaskVector)\n",
    "        neg_vector.pretrained_model = self.pretrained_model\n",
    "        neg_vector.finetuned_model = self.finetuned_model\n",
    "        for p_pre, p_fine in zip(\n",
    "            neg_vector.pretrained_model.parameters(), neg_vector.finetuned_model.parameters()\n",
    "        ):\n",
    "            p_fine.data = p_pre.data - p_fine.data\n",
    "        return neg_vector\n",
    "\n",
    "    def apply_to(self, base_model, scaling_coef):\n",
    "        # Move only temporarily\n",
    "        self.pretrained_model.to(device)\n",
    "        self.finetuned_model.to(device)\n",
    "        base_model = base_model.to(device)\n",
    "    \n",
    "        for p_base, p_pre, p_fine in zip(\n",
    "            base_model.parameters(),\n",
    "            self.pretrained_model.parameters(),\n",
    "            self.finetuned_model.parameters(),\n",
    "        ):\n",
    "            p_base.data += scaling_coef * normalize_weights(p_fine.data - p_pre.data)\n",
    "\n",
    "        # Clear memory here for better memory management\n",
    "        self.pretrained_model.to(\"cpu\")\n",
    "        self.finetuned_model.to(\"cpu\")\n",
    "        torch.cuda.empty_cache()\n",
    "\n",
    "        return base_model"
   ]
  },
  {
   "cell_type": "code",
   "execution_count": 16,
   "id": "bd2dd6ff-dce1-4bb5-a39e-25adb885df46",
   "metadata": {},
   "outputs": [],
   "source": [
    "# Initialize Task Vectors\n",
    "task_vector = TaskVector(model_id, finetuned_model_path)\n",
    "\n",
    "# Scaling coefficients\n",
    "scaling_factors = np.arange(-1.0, 1.1, 0.1)"
   ]
  },
  {
   "cell_type": "code",
   "execution_count": 17,
   "id": "eece447f-c747-4faa-9b4b-1442457d6fd6",
   "metadata": {},
   "outputs": [],
   "source": [
    "prompt = \"You're a real\" "
   ]
  },
  {
   "cell_type": "code",
   "execution_count": 18,
   "id": "5432a8ab-6c07-4198-8a17-b25eb38066d4",
   "metadata": {},
   "outputs": [],
   "source": [
    "import torch\n",
    "from tqdm import tqdm\n",
    "\n",
    "def calculate_perplexity(model, tokenizer, encodings, device):\n",
    "    max_length = model.config.n_positions\n",
    "    stride = 512\n",
    "    seq_len = encodings.input_ids.size(1)\n",
    "    \n",
    "    nll_sum = 0.0\n",
    "    n_tokens = 0\n",
    "    prev_end_loc = 0\n",
    "    for begin_loc in tqdm(range(0, seq_len, stride)):\n",
    "        end_loc = min(begin_loc + max_length, seq_len)\n",
    "        trg_len = end_loc - prev_end_loc  # may be different from stride on last loop\n",
    "        input_ids = encodings.input_ids[:, begin_loc:end_loc].to(device)\n",
    "        target_ids = input_ids.clone()\n",
    "        target_ids[:, :-trg_len] = -100\n",
    "    \n",
    "        with torch.no_grad():\n",
    "            outputs = model(input_ids, labels=target_ids)\n",
    "    \n",
    "            # loss is calculated using CrossEntropyLoss which averages over valid labels\n",
    "            # N.B. the model only calculates loss over trg_len - 1 labels, because it internally shifts the labels\n",
    "            # to the left by 1.\n",
    "            neg_log_likelihood = outputs.loss\n",
    "    \n",
    "        # Accumulate the total negative log-likelihood and the total number of tokens\n",
    "        num_valid_tokens = (target_ids != -100).sum().item()  # number of valid tokens in target_ids\n",
    "        batch_size = target_ids.size(0)\n",
    "        num_loss_tokens = num_valid_tokens - batch_size  # subtract batch_size due to internal label shift\n",
    "        nll_sum += neg_log_likelihood * num_loss_tokens\n",
    "        n_tokens += num_loss_tokens\n",
    "    \n",
    "        prev_end_loc = end_loc\n",
    "        if end_loc == seq_len:\n",
    "            break\n",
    "    \n",
    "    avg_nll = nll_sum / n_tokens  # average negative log-likelihood per token\n",
    "    ppl = torch.exp(avg_nll)\n",
    "    print(f\"Perplexity: {ppl.item():.2f}\")\n",
    "    return ppl.item()"
   ]
  },
  {
   "cell_type": "code",
   "execution_count": 19,
   "id": "2055accb-4022-4cfd-9f0b-efdd22ad13e6",
   "metadata": {},
   "outputs": [],
   "source": [
    "# Generation function\n",
    "def generate_text(model, tokenizer, prompt, num_samples=1000, max_new_tokens=100, device='cuda'):\n",
    "    model.eval()\n",
    "    model.to(device)\n",
    "    samples = []\n",
    "\n",
    "    for _ in range(num_samples):\n",
    "        inputs = tokenizer(prompt, return_tensors=\"pt\", truncation=True, padding=True, max_length=512)\n",
    "        inputs = {k: v.to(device) for k, v in inputs.items()}\n",
    "        inputs['pad_token_id'] = tokenizer.pad_token_id\n",
    "\n",
    "        with torch.no_grad():\n",
    "            output = model.generate(\n",
    "                inputs['input_ids'],\n",
    "                attention_mask=inputs['attention_mask'],\n",
    "                pad_token_id=inputs['pad_token_id'],\n",
    "                max_new_tokens=max_new_tokens,\n",
    "                do_sample=True,\n",
    "                top_k=50,\n",
    "                top_p=0.95,\n",
    "                temperature=1.0,\n",
    "            )\n",
    "        text = tokenizer.decode(output[0], skip_special_tokens=True)\n",
    "        samples.append(text)\n",
    "\n",
    "    return samples"
   ]
  },
  {
   "cell_type": "code",
   "execution_count": 21,
   "id": "8e43d0cd-7e49-47d7-a3ed-05634ba84af8",
   "metadata": {
    "scrolled": true
   },
   "outputs": [
    {
     "name": "stdout",
     "output_type": "stream",
     "text": [
      "\n",
      "--- Scaling factor: -1.0 ---\n"
     ]
    },
    {
     "name": "stderr",
     "output_type": "stream",
     "text": [
      "100%|███████████████████████████████████████████████████████████████████████████████▋| 560/562 [32:39<00:06,  3.50s/it]\n"
     ]
    },
    {
     "name": "stdout",
     "output_type": "stream",
     "text": [
      "Perplexity: 71112.75\n",
      "\n",
      "--- Scaling factor: -0.9 ---\n"
     ]
    },
    {
     "name": "stderr",
     "output_type": "stream",
     "text": [
      "100%|███████████████████████████████████████████████████████████████████████████████▋| 560/562 [25:08<00:05,  2.69s/it]\n"
     ]
    },
    {
     "name": "stdout",
     "output_type": "stream",
     "text": [
      "Perplexity: 49701.12\n",
      "\n",
      "--- Scaling factor: -0.8 ---\n"
     ]
    },
    {
     "name": "stderr",
     "output_type": "stream",
     "text": [
      "100%|███████████████████████████████████████████████████████████████████████████████▋| 560/562 [29:14<00:06,  3.13s/it]\n"
     ]
    },
    {
     "name": "stdout",
     "output_type": "stream",
     "text": [
      "Perplexity: 27560.12\n",
      "\n",
      "--- Scaling factor: -0.7 ---\n"
     ]
    },
    {
     "name": "stderr",
     "output_type": "stream",
     "text": [
      "100%|███████████████████████████████████████████████████████████████████████████████▋| 560/562 [25:33<00:05,  2.74s/it]\n"
     ]
    },
    {
     "name": "stdout",
     "output_type": "stream",
     "text": [
      "Perplexity: 15590.47\n",
      "\n",
      "--- Scaling factor: -0.6 ---\n"
     ]
    },
    {
     "name": "stderr",
     "output_type": "stream",
     "text": [
      "100%|███████████████████████████████████████████████████████████████████████████████▋| 560/562 [38:33<00:08,  4.13s/it]\n"
     ]
    },
    {
     "name": "stdout",
     "output_type": "stream",
     "text": [
      "Perplexity: 8040.10\n",
      "\n",
      "--- Scaling factor: -0.5 ---\n"
     ]
    },
    {
     "name": "stderr",
     "output_type": "stream",
     "text": [
      "100%|███████████████████████████████████████████████████████████████████████████████▋| 560/562 [40:59<00:08,  4.39s/it]\n"
     ]
    },
    {
     "name": "stdout",
     "output_type": "stream",
     "text": [
      "Perplexity: 2422.96\n",
      "\n",
      "--- Scaling factor: -0.4 ---\n"
     ]
    },
    {
     "name": "stderr",
     "output_type": "stream",
     "text": [
      "100%|███████████████████████████████████████████████████████████████████████████████▋| 560/562 [43:31<00:09,  4.66s/it]\n"
     ]
    },
    {
     "name": "stdout",
     "output_type": "stream",
     "text": [
      "Perplexity: 369.02\n",
      "\n",
      "--- Scaling factor: -0.3 ---\n"
     ]
    },
    {
     "name": "stderr",
     "output_type": "stream",
     "text": [
      "100%|███████████████████████████████████████████████████████████████████████████████▋| 560/562 [39:55<00:08,  4.28s/it]\n"
     ]
    },
    {
     "name": "stdout",
     "output_type": "stream",
     "text": [
      "Perplexity: 90.00\n",
      "\n",
      "--- Scaling factor: -0.2 ---\n"
     ]
    },
    {
     "name": "stderr",
     "output_type": "stream",
     "text": [
      "100%|███████████████████████████████████████████████████████████████████████████████▋| 560/562 [14:01<00:03,  1.50s/it]\n"
     ]
    },
    {
     "name": "stdout",
     "output_type": "stream",
     "text": [
      "Perplexity: 33.74\n",
      "\n",
      "--- Scaling factor: -0.1 ---\n"
     ]
    },
    {
     "name": "stderr",
     "output_type": "stream",
     "text": [
      "100%|███████████████████████████████████████████████████████████████████████████████▋| 560/562 [06:12<00:01,  1.50it/s]\n"
     ]
    },
    {
     "name": "stdout",
     "output_type": "stream",
     "text": [
      "Perplexity: 26.04\n",
      "\n",
      "--- Scaling factor: -0.0 ---\n"
     ]
    },
    {
     "name": "stderr",
     "output_type": "stream",
     "text": [
      "100%|███████████████████████████████████████████████████████████████████████████████▋| 560/562 [06:16<00:01,  1.49it/s]\n"
     ]
    },
    {
     "name": "stdout",
     "output_type": "stream",
     "text": [
      "Perplexity: 25.17\n",
      "\n",
      "--- Scaling factor: 0.1 ---\n"
     ]
    },
    {
     "name": "stderr",
     "output_type": "stream",
     "text": [
      "100%|███████████████████████████████████████████████████████████████████████████████▋| 560/562 [06:12<00:01,  1.50it/s]\n"
     ]
    },
    {
     "name": "stdout",
     "output_type": "stream",
     "text": [
      "Perplexity: 25.74\n",
      "\n",
      "--- Scaling factor: 0.2 ---\n"
     ]
    },
    {
     "name": "stderr",
     "output_type": "stream",
     "text": [
      "100%|███████████████████████████████████████████████████████████████████████████████▋| 560/562 [06:12<00:01,  1.50it/s]\n"
     ]
    },
    {
     "name": "stdout",
     "output_type": "stream",
     "text": [
      "Perplexity: 28.52\n",
      "\n",
      "--- Scaling factor: 0.3 ---\n"
     ]
    },
    {
     "name": "stderr",
     "output_type": "stream",
     "text": [
      "100%|███████████████████████████████████████████████████████████████████████████████▋| 560/562 [06:12<00:01,  1.50it/s]\n"
     ]
    },
    {
     "name": "stdout",
     "output_type": "stream",
     "text": [
      "Perplexity: 35.70\n",
      "\n",
      "--- Scaling factor: 0.4 ---\n"
     ]
    },
    {
     "name": "stderr",
     "output_type": "stream",
     "text": [
      "100%|███████████████████████████████████████████████████████████████████████████████▋| 560/562 [06:12<00:01,  1.50it/s]\n"
     ]
    },
    {
     "name": "stdout",
     "output_type": "stream",
     "text": [
      "Perplexity: 53.15\n",
      "\n",
      "--- Scaling factor: 0.5 ---\n"
     ]
    },
    {
     "name": "stderr",
     "output_type": "stream",
     "text": [
      "100%|███████████████████████████████████████████████████████████████████████████████▋| 560/562 [06:12<00:01,  1.50it/s]\n"
     ]
    },
    {
     "name": "stdout",
     "output_type": "stream",
     "text": [
      "Perplexity: 92.94\n",
      "\n",
      "--- Scaling factor: 0.6 ---\n"
     ]
    },
    {
     "name": "stderr",
     "output_type": "stream",
     "text": [
      "100%|███████████████████████████████████████████████████████████████████████████████▋| 560/562 [06:12<00:01,  1.50it/s]\n"
     ]
    },
    {
     "name": "stdout",
     "output_type": "stream",
     "text": [
      "Perplexity: 181.28\n",
      "\n",
      "--- Scaling factor: 0.7 ---\n"
     ]
    },
    {
     "name": "stderr",
     "output_type": "stream",
     "text": [
      "100%|███████████████████████████████████████████████████████████████████████████████▋| 560/562 [06:12<00:01,  1.50it/s]\n"
     ]
    },
    {
     "name": "stdout",
     "output_type": "stream",
     "text": [
      "Perplexity: 367.48\n",
      "\n",
      "--- Scaling factor: 0.8 ---\n"
     ]
    },
    {
     "name": "stderr",
     "output_type": "stream",
     "text": [
      "100%|███████████████████████████████████████████████████████████████████████████████▋| 560/562 [06:12<00:01,  1.50it/s]\n"
     ]
    },
    {
     "name": "stdout",
     "output_type": "stream",
     "text": [
      "Perplexity: 708.72\n",
      "\n",
      "--- Scaling factor: 0.9 ---\n"
     ]
    },
    {
     "name": "stderr",
     "output_type": "stream",
     "text": [
      "100%|███████████████████████████████████████████████████████████████████████████████▋| 560/562 [06:12<00:01,  1.50it/s]\n"
     ]
    },
    {
     "name": "stdout",
     "output_type": "stream",
     "text": [
      "Perplexity: 1305.28\n",
      "\n",
      "--- Scaling factor: 1.0 ---\n"
     ]
    },
    {
     "name": "stderr",
     "output_type": "stream",
     "text": [
      "100%|███████████████████████████████████████████████████████████████████████████████▋| 560/562 [06:12<00:01,  1.50it/s]"
     ]
    },
    {
     "name": "stdout",
     "output_type": "stream",
     "text": [
      "Perplexity: 2174.59\n"
     ]
    },
    {
     "name": "stderr",
     "output_type": "stream",
     "text": [
      "\n"
     ]
    }
   ],
   "source": [
    "\"\"\"vector ppl\"\"\"\n",
    "from copy import deepcopy\n",
    "import pandas as pd\n",
    "\n",
    "# Load base model just once\n",
    "base_model = AutoModelForCausalLM.from_pretrained(model_id).to(device)\n",
    "\n",
    "# Store results\n",
    "neg_to_pos_ppl_results = []\n",
    "\n",
    "for scale in scaling_factors:\n",
    "    print(f\"\\n--- Scaling factor: {scale:.1f} ---\")\n",
    "    \n",
    "    # Clone the base model (not deepcopy; reload to keep it clean)\n",
    "    scaled_model = AutoModelForCausalLM.from_pretrained(model_id).to(device)\n",
    "\n",
    "    # Apply the task vector with current scaling\n",
    "    task_vector.apply_to(scaled_model, scaling_coef=scale)\n",
    "\n",
    "    # Calculate perplexity\n",
    "    ppl = calculate_perplexity(scaled_model, tokenizer, encodings, device)\n",
    "\n",
    "    # Save result\n",
    "    neg_to_pos_ppl_results.append((scale, ppl))\n",
    "\n",
    "# Convert to a DataFrame\n",
    "ppl_df = pd.DataFrame(neg_to_pos_ppl_results, columns=['scaling_factor', 'ppl'])\n",
    "\n",
    "# Save to CSV\n",
    "ppl_df.to_csv(\"neg_to_pos_ppl_results_black_1000.csv\", index=False)"
   ]
  },
  {
   "cell_type": "code",
   "execution_count": null,
   "id": "f68e9a0b-bd82-455d-8e3e-64cd54775537",
   "metadata": {},
   "outputs": [],
   "source": [
    "\"\"\"base PPL of GPT-2 small is 25.17\"\"\""
   ]
  },
  {
   "cell_type": "code",
   "execution_count": 18,
   "id": "f6dd6b0b-23da-45f8-8d75-cbaee17ab293",
   "metadata": {},
   "outputs": [
    {
     "data": {
      "image/png": "[encoded data removed]",
      "text/plain": [
       "<Figure size 800x600 with 1 Axes>"
      ]
     },
     "metadata": {},
     "output_type": "display_data"
    }
   ],
   "source": [
    "\"\"\"visaulize ppl\"\"\"\n",
    "import matplotlib.pyplot as plt\n",
    "import pandas as pd\n",
    "\n",
    "# Load the saved CSV file into a DataFrame\n",
    "ppl_df = pd.read_csv(\"neg_to_pos_ppl_results_black_1000.csv\")\n",
    "\n",
    "# Filter for scaling_factor >= -0.5\n",
    "#filtered_df = ppl_df[ppl_df['scaling_factor'] >= -0.5]\n",
    "filtered_df = ppl_df[(ppl_df[\"scaling_factor\"] >= -0.4) & (ppl_df[\"scaling_factor\"] <= 0.5)]\n",
    "\n",
    "# Assuming the DataFrame has columns named 'scale' and 'perplexity'\n",
    "scaling_factors_pos = ppl_df['scaling_factor'] #<---- needs to change to ppl_df to remove filter\n",
    "perplexities_pos = ppl_df['ppl'] #<---- needs to change to ppl_df to remove filter\n",
    "\n",
    "# Create the plot\n",
    "plt.figure(figsize=(8, 6))\n",
    "plt.plot(scaling_factors_pos, perplexities_pos, marker='o', color='b', label=\"Task Vector Perplexity (black_1000)\")\n",
    "plt.title(\"Perplexity vs Scaling Factor (Task Vector -1 to 1)\", fontsize=16)\n",
    "plt.xlabel(\"Scaling Factor\", fontsize=12)\n",
    "plt.ylabel(\"Perplexity\", fontsize=12)\n",
    "plt.grid(True)\n",
    "plt.legend()\n",
    "\n",
    "# Save the plot\n",
    "plt.savefig(\"ppl_plot_black_1000_full_scale.png\", dpi=300)\n",
    "\n",
    "plt.show()"
   ]
  },
  {
   "cell_type": "code",
   "execution_count": 8,
   "id": "8d5a3157-f9e8-40f6-814b-835868415ce3",
   "metadata": {},
   "outputs": [
    {
     "name": "stdout",
     "output_type": "stream",
     "text": [
      "    scaling_factor           ppl\n",
      "0    -1.000000e+00  71112.750000\n",
      "1    -9.000000e-01  49701.117188\n",
      "2    -8.000000e-01  27560.115234\n",
      "3    -7.000000e-01  15590.469727\n",
      "4    -6.000000e-01   8040.101562\n",
      "5    -5.000000e-01   2422.964355\n",
      "6    -4.000000e-01    369.022705\n",
      "7    -3.000000e-01     89.996918\n",
      "8    -2.000000e-01     33.744591\n",
      "9    -1.000000e-01     26.041969\n",
      "10   -2.220446e-16     25.170399\n",
      "11    1.000000e-01     25.738153\n",
      "12    2.000000e-01     28.523466\n",
      "13    3.000000e-01     35.700520\n",
      "14    4.000000e-01     53.150101\n",
      "15    5.000000e-01     92.936028\n",
      "16    6.000000e-01    181.277740\n",
      "17    7.000000e-01    367.477661\n",
      "18    8.000000e-01    708.724609\n",
      "19    9.000000e-01   1305.280640\n",
      "20    1.000000e+00   2174.586182\n"
     ]
    }
   ],
   "source": [
    "print(ppl_df)"
   ]
  }
 ],
 "metadata": {
  "kernelspec": {
   "display_name": "Python 3 (ipykernel)",
   "language": "python",
   "name": "python3"
  },
  "language_info": {
   "codemirror_mode": {
    "name": "ipython",
    "version": 3
   },
   "file_extension": ".py",
   "mimetype": "text/x-python",
   "name": "python",
   "nbconvert_exporter": "python",
   "pygments_lexer": "ipython3",
   "version": "3.11.9"
  }
 },
 "nbformat": 4,
 "nbformat_minor": 5
}
