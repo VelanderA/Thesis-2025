{
 "cells": [
  {
   "cell_type": "code",
   "execution_count": 1,
   "id": "c7b3f89b-c71c-43a0-9dd0-ca6847480d80",
   "metadata": {},
   "outputs": [
    {
     "data": {
      "text/plain": [
       "'C:\\\\Users\\\\Anneth\\\\Documents\\\\GitHub\\\\Thesis-2025\\\\replicate_experiment'"
      ]
     },
     "execution_count": 1,
     "metadata": {},
     "output_type": "execute_result"
    }
   ],
   "source": [
    "pwd"
   ]
  },
  {
   "cell_type": "code",
   "execution_count": 10,
   "id": "8bd25c72-37df-44ab-a178-f3bb8bfe82a2",
   "metadata": {},
   "outputs": [],
   "source": [
    "from transformers import GPT2LMHeadModel, GPT2TokenizerFast\n",
    "from accelerate.test_utils.testing import get_backend\n",
    "import torch\n",
    "from transformers import AutoTokenizer, AutoModelForCausalLM, Trainer\n",
    "import nbimporter\n",
    "from task_vectors import TaskVector\n",
    "from safetensors.torch import load_file\n",
    "from transformers import pipeline\n",
    "import numpy as np\n",
    "import evaluate\n",
    "import pandas as pd\n",
    "\n",
    "from transformers import GPT2LMHeadModel, GPT2TokenizerFast\n",
    "from accelerate.test_utils.testing import get_backend\n",
    "\n",
    "device, _, _ = get_backend() # automatically detects the underlying device type (CUDA, CPU, XPU, MPS, etc.)\n",
    "model_id = \"./pretrained_gpt2\"\n",
    "finetuned_model_path = \"./finetuned_gpt2_female_new\"\n",
    "model = GPT2LMHeadModel.from_pretrained(model_id).to(device)\n",
    "tokenizer = GPT2TokenizerFast.from_pretrained(model_id)"
   ]
  },
  {
   "cell_type": "code",
   "execution_count": 11,
   "id": "745fb051-d9a6-4ecf-97c5-f03576f631c5",
   "metadata": {},
   "outputs": [
    {
     "name": "stderr",
     "output_type": "stream",
     "text": [
      "Token indices sequence length is longer than the specified maximum sequence length for this model (287644 > 1024). Running this sequence through the model will result in indexing errors\n"
     ]
    }
   ],
   "source": [
    "from datasets import load_dataset\n",
    "\n",
    "test = load_dataset(\"wikitext\", \"wikitext-2-raw-v1\", split=\"test\")\n",
    "encodings = tokenizer(\"\\n\\n\".join(test[\"text\"]), return_tensors=\"pt\")"
   ]
  },
  {
   "cell_type": "code",
   "execution_count": 13,
   "id": "81513b69-24cb-4e8f-9eab-e578a21ea721",
   "metadata": {},
   "outputs": [],
   "source": [
    "import torch\n",
    "from tqdm import tqdm\n",
    "import numpy as np\n",
    "from detoxify import Detoxify\n",
    "import gc\n",
    "from copy import deepcopy\n",
    "from transformers import AutoModelForCausalLM, AutoTokenizer\n",
    "\n",
    "# Load tokenizer and fix padding\n",
    "tokenizer = AutoTokenizer.from_pretrained(\"gpt2\")\n",
    "tokenizer.pad_token = tokenizer.eos_token  # Required for some models\n"
   ]
  },
  {
   "cell_type": "code",
   "execution_count": 14,
   "id": "c62066c8-6be1-45de-bec0-7c3304e58da8",
   "metadata": {},
   "outputs": [],
   "source": [
    "def normalize_weights(param_diff, eps=1e-6):\n",
    "    norm = torch.norm(param_diff)\n",
    "    return param_diff / (norm + eps)    \n",
    "    \n",
    "# Task Vector Class\n",
    "class TaskVector:\n",
    "    def __init__(self, pretrained_checkpoint, finetuned_checkpoint):\n",
    "        # Keep models on CPU initially\n",
    "        self.pretrained_model = AutoModelForCausalLM.from_pretrained(model_id).cpu()\n",
    "        self.finetuned_model = AutoModelForCausalLM.from_pretrained(finetuned_model_path).cpu()\n",
    "\n",
    "    def __neg__(self):\n",
    "        neg_vector = TaskVector.__new__(TaskVector)\n",
    "        neg_vector.pretrained_model = self.pretrained_model\n",
    "        neg_vector.finetuned_model = self.finetuned_model\n",
    "        for p_pre, p_fine in zip(\n",
    "            neg_vector.pretrained_model.parameters(), neg_vector.finetuned_model.parameters()\n",
    "        ):\n",
    "            p_fine.data = p_pre.data - p_fine.data\n",
    "        return neg_vector\n",
    "\n",
    "    def apply_to(self, base_model, scaling_coef):\n",
    "        # Move only temporarily\n",
    "        self.pretrained_model.to(device)\n",
    "        self.finetuned_model.to(device)\n",
    "        base_model = base_model.to(device)\n",
    "    \n",
    "        for p_base, p_pre, p_fine in zip(\n",
    "            base_model.parameters(),\n",
    "            self.pretrained_model.parameters(),\n",
    "            self.finetuned_model.parameters(),\n",
    "        ):\n",
    "            p_base.data += scaling_coef * normalize_weights(p_fine.data - p_pre.data)\n",
    "\n",
    "        # Clear memory here for better memory management\n",
    "        self.pretrained_model.to(\"cpu\")\n",
    "        self.finetuned_model.to(\"cpu\")\n",
    "        torch.cuda.empty_cache()\n",
    "\n",
    "        return base_model"
   ]
  },
  {
   "cell_type": "code",
   "execution_count": 15,
   "id": "bd2dd6ff-dce1-4bb5-a39e-25adb885df46",
   "metadata": {},
   "outputs": [],
   "source": [
    "# Initialize Task Vectors\n",
    "task_vector = TaskVector(model_id, finetuned_model_path)\n",
    "\n",
    "# Scaling coefficients\n",
    "scaling_factors = np.arange(-1.0, 1.1, 0.1)"
   ]
  },
  {
   "cell_type": "code",
   "execution_count": 16,
   "id": "eece447f-c747-4faa-9b4b-1442457d6fd6",
   "metadata": {},
   "outputs": [],
   "source": [
    "#prompt = \"You're a real\" "
   ]
  },
  {
   "cell_type": "code",
   "execution_count": 17,
   "id": "5432a8ab-6c07-4198-8a17-b25eb38066d4",
   "metadata": {},
   "outputs": [],
   "source": [
    "import torch\n",
    "from tqdm import tqdm\n",
    "\n",
    "def calculate_perplexity(model, tokenizer, encodings, device):\n",
    "    max_length = model.config.n_positions\n",
    "    stride = 512\n",
    "    seq_len = encodings.input_ids.size(1)\n",
    "    \n",
    "    nll_sum = 0.0\n",
    "    n_tokens = 0\n",
    "    prev_end_loc = 0\n",
    "    for begin_loc in tqdm(range(0, seq_len, stride)):\n",
    "        end_loc = min(begin_loc + max_length, seq_len)\n",
    "        trg_len = end_loc - prev_end_loc  # may be different from stride on last loop\n",
    "        input_ids = encodings.input_ids[:, begin_loc:end_loc].to(device)\n",
    "        target_ids = input_ids.clone()\n",
    "        target_ids[:, :-trg_len] = -100\n",
    "    \n",
    "        with torch.no_grad():\n",
    "            outputs = model(input_ids, labels=target_ids)\n",
    "    \n",
    "            # loss is calculated using CrossEntropyLoss which averages over valid labels\n",
    "            # N.B. the model only calculates loss over trg_len - 1 labels, because it internally shifts the labels\n",
    "            # to the left by 1.\n",
    "            neg_log_likelihood = outputs.loss\n",
    "    \n",
    "        # Accumulate the total negative log-likelihood and the total number of tokens\n",
    "        num_valid_tokens = (target_ids != -100).sum().item()  # number of valid tokens in target_ids\n",
    "        batch_size = target_ids.size(0)\n",
    "        num_loss_tokens = num_valid_tokens - batch_size  # subtract batch_size due to internal label shift\n",
    "        nll_sum += neg_log_likelihood * num_loss_tokens\n",
    "        n_tokens += num_loss_tokens\n",
    "    \n",
    "        prev_end_loc = end_loc\n",
    "        if end_loc == seq_len:\n",
    "            break\n",
    "    \n",
    "    avg_nll = nll_sum / n_tokens  # average negative log-likelihood per token\n",
    "    ppl = torch.exp(avg_nll)\n",
    "    print(f\"Perplexity: {ppl.item():.2f}\")\n",
    "    return ppl.item()"
   ]
  },
  {
   "cell_type": "code",
   "execution_count": 18,
   "id": "2055accb-4022-4cfd-9f0b-efdd22ad13e6",
   "metadata": {},
   "outputs": [],
   "source": [
    "# Generation function(no run)\n",
    "def generate_text(model, tokenizer, prompt, num_samples=1000, max_new_tokens=100, device='cuda'):\n",
    "    model.eval()\n",
    "    model.to(device)\n",
    "    samples = []\n",
    "\n",
    "    for _ in range(num_samples):\n",
    "        inputs = tokenizer(prompt, return_tensors=\"pt\", truncation=True, padding=True, max_length=512)\n",
    "        inputs = {k: v.to(device) for k, v in inputs.items()}\n",
    "        inputs['pad_token_id'] = tokenizer.pad_token_id\n",
    "\n",
    "        with torch.no_grad():\n",
    "            output = model.generate(\n",
    "                inputs['input_ids'],\n",
    "                attention_mask=inputs['attention_mask'],\n",
    "                pad_token_id=inputs['pad_token_id'],\n",
    "                max_new_tokens=max_new_tokens,\n",
    "                do_sample=True,\n",
    "                top_k=50,\n",
    "                top_p=0.95,\n",
    "                temperature=1.0,\n",
    "            )\n",
    "        text = tokenizer.decode(output[0], skip_special_tokens=True)\n",
    "        samples.append(text)\n",
    "\n",
    "    return samples"
   ]
  },
  {
   "cell_type": "code",
   "execution_count": 19,
   "id": "8e43d0cd-7e49-47d7-a3ed-05634ba84af8",
   "metadata": {
    "scrolled": true
   },
   "outputs": [
    {
     "name": "stdout",
     "output_type": "stream",
     "text": [
      "\n",
      "--- Scaling factor: -1.0 ---\n"
     ]
    },
    {
     "name": "stderr",
     "output_type": "stream",
     "text": [
      "100%|███████████████████████████████████████████████████████████████████████████████▋| 560/562 [03:53<00:00,  2.39it/s]\n"
     ]
    },
    {
     "name": "stdout",
     "output_type": "stream",
     "text": [
      "Perplexity: 24131.43\n",
      "\n",
      "--- Scaling factor: -0.9 ---\n"
     ]
    },
    {
     "name": "stderr",
     "output_type": "stream",
     "text": [
      "100%|███████████████████████████████████████████████████████████████████████████████▋| 560/562 [06:11<00:01,  1.51it/s]\n"
     ]
    },
    {
     "name": "stdout",
     "output_type": "stream",
     "text": [
      "Perplexity: 18049.27\n",
      "\n",
      "--- Scaling factor: -0.8 ---\n"
     ]
    },
    {
     "name": "stderr",
     "output_type": "stream",
     "text": [
      "100%|███████████████████████████████████████████████████████████████████████████████▋| 560/562 [06:10<00:01,  1.51it/s]\n"
     ]
    },
    {
     "name": "stdout",
     "output_type": "stream",
     "text": [
      "Perplexity: 10649.97\n",
      "\n",
      "--- Scaling factor: -0.7 ---\n"
     ]
    },
    {
     "name": "stderr",
     "output_type": "stream",
     "text": [
      "100%|███████████████████████████████████████████████████████████████████████████████▋| 560/562 [06:11<00:01,  1.51it/s]\n"
     ]
    },
    {
     "name": "stdout",
     "output_type": "stream",
     "text": [
      "Perplexity: 5882.89\n",
      "\n",
      "--- Scaling factor: -0.6 ---\n"
     ]
    },
    {
     "name": "stderr",
     "output_type": "stream",
     "text": [
      "100%|███████████████████████████████████████████████████████████████████████████████▋| 560/562 [06:11<00:01,  1.51it/s]\n"
     ]
    },
    {
     "name": "stdout",
     "output_type": "stream",
     "text": [
      "Perplexity: 2394.34\n",
      "\n",
      "--- Scaling factor: -0.5 ---\n"
     ]
    },
    {
     "name": "stderr",
     "output_type": "stream",
     "text": [
      "100%|███████████████████████████████████████████████████████████████████████████████▋| 560/562 [06:11<00:01,  1.51it/s]\n"
     ]
    },
    {
     "name": "stdout",
     "output_type": "stream",
     "text": [
      "Perplexity: 584.63\n",
      "\n",
      "--- Scaling factor: -0.4 ---\n"
     ]
    },
    {
     "name": "stderr",
     "output_type": "stream",
     "text": [
      "100%|███████████████████████████████████████████████████████████████████████████████▋| 560/562 [06:12<00:01,  1.51it/s]\n"
     ]
    },
    {
     "name": "stdout",
     "output_type": "stream",
     "text": [
      "Perplexity: 173.37\n",
      "\n",
      "--- Scaling factor: -0.3 ---\n"
     ]
    },
    {
     "name": "stderr",
     "output_type": "stream",
     "text": [
      "100%|███████████████████████████████████████████████████████████████████████████████▋| 560/562 [06:13<00:01,  1.50it/s]\n"
     ]
    },
    {
     "name": "stdout",
     "output_type": "stream",
     "text": [
      "Perplexity: 60.79\n",
      "\n",
      "--- Scaling factor: -0.2 ---\n"
     ]
    },
    {
     "name": "stderr",
     "output_type": "stream",
     "text": [
      "100%|███████████████████████████████████████████████████████████████████████████████▋| 560/562 [06:13<00:01,  1.50it/s]\n"
     ]
    },
    {
     "name": "stdout",
     "output_type": "stream",
     "text": [
      "Perplexity: 30.13\n",
      "\n",
      "--- Scaling factor: -0.1 ---\n"
     ]
    },
    {
     "name": "stderr",
     "output_type": "stream",
     "text": [
      "100%|███████████████████████████████████████████████████████████████████████████████▋| 560/562 [06:12<00:01,  1.50it/s]\n"
     ]
    },
    {
     "name": "stdout",
     "output_type": "stream",
     "text": [
      "Perplexity: 25.80\n",
      "\n",
      "--- Scaling factor: -0.0 ---\n"
     ]
    },
    {
     "name": "stderr",
     "output_type": "stream",
     "text": [
      "100%|███████████████████████████████████████████████████████████████████████████████▋| 560/562 [06:12<00:01,  1.50it/s]\n"
     ]
    },
    {
     "name": "stdout",
     "output_type": "stream",
     "text": [
      "Perplexity: 25.17\n",
      "\n",
      "--- Scaling factor: 0.1 ---\n"
     ]
    },
    {
     "name": "stderr",
     "output_type": "stream",
     "text": [
      "100%|███████████████████████████████████████████████████████████████████████████████▋| 560/562 [06:11<00:01,  1.51it/s]\n"
     ]
    },
    {
     "name": "stdout",
     "output_type": "stream",
     "text": [
      "Perplexity: 25.57\n",
      "\n",
      "--- Scaling factor: 0.2 ---\n"
     ]
    },
    {
     "name": "stderr",
     "output_type": "stream",
     "text": [
      "100%|███████████████████████████████████████████████████████████████████████████████▋| 560/562 [06:11<00:01,  1.51it/s]\n"
     ]
    },
    {
     "name": "stdout",
     "output_type": "stream",
     "text": [
      "Perplexity: 27.21\n",
      "\n",
      "--- Scaling factor: 0.3 ---\n"
     ]
    },
    {
     "name": "stderr",
     "output_type": "stream",
     "text": [
      "100%|███████████████████████████████████████████████████████████████████████████████▋| 560/562 [06:11<00:01,  1.51it/s]\n"
     ]
    },
    {
     "name": "stdout",
     "output_type": "stream",
     "text": [
      "Perplexity: 30.89\n",
      "\n",
      "--- Scaling factor: 0.4 ---\n"
     ]
    },
    {
     "name": "stderr",
     "output_type": "stream",
     "text": [
      "100%|███████████████████████████████████████████████████████████████████████████████▋| 560/562 [06:12<00:01,  1.50it/s]\n"
     ]
    },
    {
     "name": "stdout",
     "output_type": "stream",
     "text": [
      "Perplexity: 39.70\n",
      "\n",
      "--- Scaling factor: 0.5 ---\n"
     ]
    },
    {
     "name": "stderr",
     "output_type": "stream",
     "text": [
      "100%|███████████████████████████████████████████████████████████████████████████████▋| 560/562 [04:34<00:00,  2.04it/s]\n"
     ]
    },
    {
     "name": "stdout",
     "output_type": "stream",
     "text": [
      "Perplexity: 63.31\n",
      "\n",
      "--- Scaling factor: 0.6 ---\n"
     ]
    },
    {
     "name": "stderr",
     "output_type": "stream",
     "text": [
      "100%|███████████████████████████████████████████████████████████████████████████████▋| 560/562 [04:58<00:01,  1.88it/s]\n"
     ]
    },
    {
     "name": "stdout",
     "output_type": "stream",
     "text": [
      "Perplexity: 127.23\n",
      "\n",
      "--- Scaling factor: 0.7 ---\n"
     ]
    },
    {
     "name": "stderr",
     "output_type": "stream",
     "text": [
      "100%|███████████████████████████████████████████████████████████████████████████████▋| 560/562 [06:12<00:01,  1.50it/s]\n"
     ]
    },
    {
     "name": "stdout",
     "output_type": "stream",
     "text": [
      "Perplexity: 298.71\n",
      "\n",
      "--- Scaling factor: 0.8 ---\n"
     ]
    },
    {
     "name": "stderr",
     "output_type": "stream",
     "text": [
      "100%|███████████████████████████████████████████████████████████████████████████████▋| 560/562 [06:13<00:01,  1.50it/s]\n"
     ]
    },
    {
     "name": "stdout",
     "output_type": "stream",
     "text": [
      "Perplexity: 800.71\n",
      "\n",
      "--- Scaling factor: 0.9 ---\n"
     ]
    },
    {
     "name": "stderr",
     "output_type": "stream",
     "text": [
      "100%|███████████████████████████████████████████████████████████████████████████████▋| 560/562 [06:13<00:01,  1.50it/s]\n"
     ]
    },
    {
     "name": "stdout",
     "output_type": "stream",
     "text": [
      "Perplexity: 2385.47\n",
      "\n",
      "--- Scaling factor: 1.0 ---\n"
     ]
    },
    {
     "name": "stderr",
     "output_type": "stream",
     "text": [
      "100%|███████████████████████████████████████████████████████████████████████████████▋| 560/562 [06:13<00:01,  1.50it/s]"
     ]
    },
    {
     "name": "stdout",
     "output_type": "stream",
     "text": [
      "Perplexity: 5304.88\n"
     ]
    },
    {
     "name": "stderr",
     "output_type": "stream",
     "text": [
      "\n"
     ]
    }
   ],
   "source": [
    "\"\"\"vector ppl\"\"\"\n",
    "from copy import deepcopy\n",
    "import pandas as pd\n",
    "\n",
    "# Load base model just once\n",
    "base_model = AutoModelForCausalLM.from_pretrained(model_id).to(device)\n",
    "\n",
    "# Store results\n",
    "neg_to_pos_ppl_results = []\n",
    "\n",
    "for scale in scaling_factors:\n",
    "    print(f\"\\n--- Scaling factor: {scale:.1f} ---\")\n",
    "    \n",
    "    # Clone the base model (not deepcopy; reload to keep it clean)\n",
    "    scaled_model = AutoModelForCausalLM.from_pretrained(model_id).to(device)\n",
    "\n",
    "    # Apply the task vector with current scaling\n",
    "    task_vector.apply_to(scaled_model, scaling_coef=scale)\n",
    "\n",
    "    # Calculate perplexity\n",
    "    ppl = calculate_perplexity(scaled_model, tokenizer, encodings, device)\n",
    "\n",
    "    # Save result\n",
    "    neg_to_pos_ppl_results.append((scale, ppl))\n",
    "\n",
    "# Convert to a DataFrame\n",
    "ppl_df = pd.DataFrame(neg_to_pos_ppl_results, columns=['scaling_factor', 'ppl'])\n",
    "\n",
    "# Save to CSV\n",
    "ppl_df.to_csv(\"neg_to_pos_ppl_results_female_1000.csv\", index=False)"
   ]
  },
  {
   "cell_type": "code",
   "execution_count": null,
   "id": "f68e9a0b-bd82-455d-8e3e-64cd54775537",
   "metadata": {},
   "outputs": [],
   "source": [
    "\"\"\"base PPL of GPT-2 small is 25.17\"\"\""
   ]
  },
  {
   "cell_type": "code",
   "execution_count": 33,
   "id": "f6dd6b0b-23da-45f8-8d75-cbaee17ab293",
   "metadata": {},
   "outputs": [
    {
     "data": {
      "image/png": "[encoded data removed]",
      "text/plain": [
       "<Figure size 800x600 with 1 Axes>"
      ]
     },
     "metadata": {},
     "output_type": "display_data"
    }
   ],
   "source": [
    "\"\"\"visaulize ppl\"\"\"\n",
    "import matplotlib.pyplot as plt\n",
    "import pandas as pd\n",
    "\n",
    "# Load the saved CSV file into a DataFrame\n",
    "ppl_df = pd.read_csv(\"neg_to_pos_ppl_results_female_1000.csv\")\n",
    "\n",
    "# Filter for scaling_factor\n",
    "filtered_df = ppl_df[(ppl_df[\"scaling_factor\"] >= -0.4) & (ppl_df[\"scaling_factor\"] <= 0.5)]\n",
    "\n",
    "# Assuming the DataFrame has columns named 'scale' and 'perplexity'\n",
    "scaling_factors_pos = filtered_df['scaling_factor'] #<---- needs to change to ppl_df to remove filter\n",
    "perplexities_pos = filtered_df['ppl'] #<---- needs to change to ppl_df to remove filter\n",
    "\n",
    "# Create the plot\n",
    "plt.figure(figsize=(8, 6))\n",
    "plt.plot(scaling_factors_pos, perplexities_pos, marker='o', color='b', label=\"Task Vector Perplexity (female_1000)\")\n",
    "plt.title(\"Perplexity vs Scaling Factor (Task Vector -0.3 to 0.5)\", fontsize=16)\n",
    "plt.xlabel(\"Scaling Factor\", fontsize=12)\n",
    "plt.ylabel(\"Perplexity\", fontsize=12)\n",
    "plt.grid(True)\n",
    "plt.legend()\n",
    "\n",
    "# Save the plot\n",
    "plt.savefig(\"ppl_plot_female_1000-0.3to0.5.png\")\n",
    "\n",
    "plt.show()"
   ]
  },
  {
   "cell_type": "code",
   "execution_count": 23,
   "id": "cbba10f3-28ea-4e0f-a7fa-06b8ce95465c",
   "metadata": {},
   "outputs": [
    {
     "name": "stdout",
     "output_type": "stream",
     "text": [
      "    scaling_factor           ppl\n",
      "0    -1.000000e+00  24131.431641\n",
      "1    -9.000000e-01  18049.267578\n",
      "2    -8.000000e-01  10649.971680\n",
      "3    -7.000000e-01   5882.887207\n",
      "4    -6.000000e-01   2394.337402\n",
      "5    -5.000000e-01    584.634277\n",
      "6    -4.000000e-01    173.366669\n",
      "7    -3.000000e-01     60.785065\n",
      "8    -2.000000e-01     30.127481\n",
      "9    -1.000000e-01     25.803238\n",
      "10   -2.220446e-16     25.170399\n",
      "11    1.000000e-01     25.570391\n",
      "12    2.000000e-01     27.208437\n",
      "13    3.000000e-01     30.889751\n",
      "14    4.000000e-01     39.696877\n",
      "15    5.000000e-01     63.306942\n",
      "16    6.000000e-01    127.229446\n",
      "17    7.000000e-01    298.707062\n",
      "18    8.000000e-01    800.707581\n",
      "19    9.000000e-01   2385.469238\n",
      "20    1.000000e+00   5304.875977\n"
     ]
    }
   ],
   "source": [
    "print(ppl_df)"
   ]
  },
  {
   "cell_type": "code",
   "execution_count": 36,
   "id": "6d00e685-75a7-4853-98c1-0fa8ef381e33",
   "metadata": {},
   "outputs": [
    {
     "data": {
      "image/png": "[encoded data removed]",
      "text/plain": [
       "<Figure size 1000x600 with 1 Axes>"
      ]
     },
     "metadata": {},
     "output_type": "display_data"
    }
   ],
   "source": [
    "import pandas as pd\n",
    "import matplotlib.pyplot as plt\n",
    "\n",
    "# Load both PPL results into separate DataFrames\n",
    "ppl_black = pd.read_csv(\"neg_to_pos_ppl_results_black_1000.csv\")\n",
    "ppl_female = pd.read_csv(\"neg_to_pos_ppl_results_female:1000.csv\")\n",
    "\n",
    "# Filter scaling factors between -0.3 and 0.5 (inclusive)\n",
    "ppl_black_filtered = ppl_black[(ppl_black[\"scaling_factor\"] >= -0.4) & (ppl_black[\"scaling_factor\"] <= 0.5)]\n",
    "ppl_female_filtered = ppl_female[(ppl_female[\"scaling_factor\"] >= -0.4) & (ppl_female[\"scaling_factor\"] <= 0.5)]\n",
    "\n",
    "# Extract values for plotting\n",
    "scaling_black = ppl_black[\"scaling_factor\"]\n",
    "ppl_values_black = ppl_black[\"ppl\"]\n",
    "\n",
    "scaling_female = ppl_female[\"scaling_factor\"]\n",
    "ppl_values_female = ppl_female[\"ppl\"]\n",
    "\n",
    "# Plot both on the same graph\n",
    "plt.figure(figsize=(10, 6))\n",
    "\n",
    "plt.plot(scaling_black, ppl_values_black, marker='o', color='blue', label=\"Black-biased PPL\")\n",
    "plt.plot(scaling_female, ppl_values_female, marker='s', color='red', label=\"Female-biased PPL\")\n",
    "\n",
    "plt.title(\"Perplexity vs Scaling Factor (-1.0 to 1.0)\", fontsize=16)\n",
    "plt.xlabel(\"Scaling Factor\", fontsize=12)\n",
    "plt.ylabel(\"Perplexity\", fontsize=12)\n",
    "plt.grid(True)\n",
    "plt.legend()\n",
    "plt.tight_layout()\n",
    "\n",
    "# Save the plot\n",
    "plt.savefig(\"ppl_plot_black_vs_female_full_scale_1000.png\", dpi=300)\n",
    "\n",
    "plt.show()"
   ]
  }
 ],
 "metadata": {
  "kernelspec": {
   "display_name": "Python 3 (ipykernel)",
   "language": "python",
   "name": "python3"
  },
  "language_info": {
   "codemirror_mode": {
    "name": "ipython",
    "version": 3
   },
   "file_extension": ".py",
   "mimetype": "text/x-python",
   "name": "python",
   "nbconvert_exporter": "python",
   "pygments_lexer": "ipython3",
   "version": "3.11.9"
  }
 },
 "nbformat": 4,
 "nbformat_minor": 5
}
