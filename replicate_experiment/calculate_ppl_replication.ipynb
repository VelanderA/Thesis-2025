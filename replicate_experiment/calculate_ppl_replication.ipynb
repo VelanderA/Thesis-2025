{
 "cells": [
  {
   "cell_type": "code",
   "execution_count": null,
   "id": "e5869e53-8b87-441e-94f4-054ad0c13773",
   "metadata": {},
   "outputs": [],
   "source": [
    "\"\"\"Calculate ppl replication experiment\"\"\""
   ]
  },
  {
   "cell_type": "code",
   "execution_count": 2,
   "id": "7d9870a4-f00f-4067-9ad6-458af207add0",
   "metadata": {},
   "outputs": [
    {
     "name": "stdout",
     "output_type": "stream",
     "text": [
      "WARNING:tensorflow:From C:\\Users\\Anneth\\anaconda3\\envs\\torch\\Lib\\site-packages\\tf_keras\\src\\losses.py:2976: The name tf.losses.sparse_softmax_cross_entropy is deprecated. Please use tf.compat.v1.losses.sparse_softmax_cross_entropy instead.\n",
      "\n"
     ]
    }
   ],
   "source": [
    "from transformers import GPT2LMHeadModel, GPT2TokenizerFast\n",
    "from accelerate.test_utils.testing import get_backend\n",
    "import torch\n",
    "from transformers import AutoTokenizer, AutoModelForCausalLM, Trainer\n",
    "import nbimporter\n",
    "from task_vectors import TaskVector\n",
    "from safetensors.torch import load_file\n",
    "from transformers import pipeline\n",
    "import numpy as np\n",
    "import evaluate\n",
    "import pandas as pd\n",
    "\n",
    "from transformers import GPT2LMHeadModel, GPT2TokenizerFast\n",
    "from accelerate.test_utils.testing import get_backend\n",
    "\n",
    "from transformers import GPT2LMHeadModel, GPT2TokenizerFast\n",
    "from accelerate.test_utils.testing import get_backend"
   ]
  },
  {
   "cell_type": "code",
   "execution_count": 4,
   "id": "a23c21f5-73c7-4384-923b-353e1f24093f",
   "metadata": {},
   "outputs": [],
   "source": [
    "device, _, _ = get_backend() # automatically detects the underlying device type (CUDA, CPU, XPU, MPS, etc.)\n",
    "model_id = \"./pretrained_gpt2\"\n",
    "finetuned_model_path = \"./fine_tuned_gpt2_frozen\"\n",
    "model = GPT2LMHeadModel.from_pretrained(model_id).to(device)\n",
    "tokenizer = GPT2TokenizerFast.from_pretrained(model_id)\n"
   ]
  },
  {
   "cell_type": "code",
   "execution_count": 5,
   "id": "ff443e94-389b-4ea5-b19e-f2c264d8c8a5",
   "metadata": {},
   "outputs": [
    {
     "name": "stderr",
     "output_type": "stream",
     "text": [
      "Token indices sequence length is longer than the specified maximum sequence length for this model (287644 > 1024). Running this sequence through the model will result in indexing errors\n"
     ]
    }
   ],
   "source": [
    "from datasets import load_dataset\n",
    "\n",
    "test = load_dataset(\"wikitext\", \"wikitext-2-raw-v1\", split=\"test\")\n",
    "encodings = tokenizer(\"\\n\\n\".join(test[\"text\"]), return_tensors=\"pt\")"
   ]
  },
  {
   "cell_type": "code",
   "execution_count": 6,
   "id": "36682fd1-2729-40e0-9b50-cc990338ae2b",
   "metadata": {},
   "outputs": [
    {
     "name": "stdout",
     "output_type": "stream",
     "text": [
      "Loaded 4358 test samples from the Wikitext dataset.\n",
      "Total sequence length after encoding: 287644\n"
     ]
    }
   ],
   "source": [
    "# Print to debug if data is loaded correctly\n",
    "print(f\"Loaded {len(test)} test samples from the Wikitext dataset.\")\n",
    "# Debugging encoding length\n",
    "print(f\"Total sequence length after encoding: {encodings.input_ids.size(1)}\")"
   ]
  },
  {
   "cell_type": "code",
   "execution_count": 7,
   "id": "d447af96-99e7-423e-9fbe-b9d3db18ddd0",
   "metadata": {},
   "outputs": [],
   "source": [
    "import torch\n",
    "from tqdm import tqdm\n",
    "import numpy as np\n",
    "from detoxify import Detoxify\n",
    "import gc\n",
    "from copy import deepcopy\n",
    "from transformers import AutoModelForCausalLM, AutoTokenizer\n",
    "\n",
    "# Load tokenizer and fix padding\n",
    "tokenizer = AutoTokenizer.from_pretrained(\"gpt2\")\n",
    "tokenizer.pad_token = tokenizer.eos_token  # Required for some models"
   ]
  },
  {
   "cell_type": "code",
   "execution_count": 8,
   "id": "b3e584ce-cb0f-494d-b578-9462a71aac14",
   "metadata": {},
   "outputs": [],
   "source": [
    "def normalize_weights(param_diff, eps=1e-6):\n",
    "    norm = torch.norm(param_diff)\n",
    "    return param_diff / (norm + eps)    \n",
    "    \n",
    "# Task Vector Class\n",
    "class TaskVector:\n",
    "    def __init__(self, pretrained_checkpoint, finetuned_checkpoint):\n",
    "        # Keep models on CPU initially\n",
    "        self.pretrained_model = AutoModelForCausalLM.from_pretrained(model_id).cpu()\n",
    "        self.finetuned_model = AutoModelForCausalLM.from_pretrained(finetuned_model_path).cpu()\n",
    "\n",
    "    def __neg__(self):\n",
    "        neg_vector = TaskVector.__new__(TaskVector)\n",
    "        neg_vector.pretrained_model = self.pretrained_model\n",
    "        neg_vector.finetuned_model = self.finetuned_model\n",
    "        for p_pre, p_fine in zip(\n",
    "            neg_vector.pretrained_model.parameters(), neg_vector.finetuned_model.parameters()\n",
    "        ):\n",
    "            p_fine.data = p_pre.data - p_fine.data\n",
    "        return neg_vector\n",
    "\n",
    "    def apply_to(self, base_model, scaling_coef):\n",
    "        # Move only temporarily\n",
    "        self.pretrained_model.to(device)\n",
    "        self.finetuned_model.to(device)\n",
    "        base_model = base_model.to(device)\n",
    "    \n",
    "        for p_base, p_pre, p_fine in zip(\n",
    "            base_model.parameters(),\n",
    "            self.pretrained_model.parameters(),\n",
    "            self.finetuned_model.parameters(),\n",
    "        ):\n",
    "            p_base.data += scaling_coef * normalize_weights(p_fine.data - p_pre.data)\n",
    "\n",
    "        # Clear memory here for better memory management\n",
    "        self.pretrained_model.to(\"cpu\")\n",
    "        self.finetuned_model.to(\"cpu\")\n",
    "        torch.cuda.empty_cache()\n",
    "\n",
    "        return base_model\n"
   ]
  },
  {
   "cell_type": "code",
   "execution_count": 9,
   "id": "81124151-2bcc-47be-8fb0-bde9bed20925",
   "metadata": {},
   "outputs": [],
   "source": [
    "# Initialize Task Vectors\n",
    "task_vector = TaskVector(model_id, finetuned_model_path)\n",
    "\n",
    "# Scaling coefficients\n",
    "scaling_factors = np.arange(-1.0, 1.1, 0.1)"
   ]
  },
  {
   "cell_type": "code",
   "execution_count": 10,
   "id": "63be39b3-9545-4794-8d9b-0c339c45f7da",
   "metadata": {},
   "outputs": [],
   "source": [
    "prompt = \"You're a real\""
   ]
  },
  {
   "cell_type": "code",
   "execution_count": 11,
   "id": "06c970c6-4620-49f8-b8c3-c6d3d44bfe5f",
   "metadata": {},
   "outputs": [],
   "source": [
    "import torch\n",
    "from tqdm import tqdm\n",
    "\n",
    "def calculate_perplexity(model, tokenizer, encodings, device):\n",
    "    max_length = model.config.n_positions\n",
    "    stride = 512\n",
    "    seq_len = encodings.input_ids.size(1)\n",
    "\n",
    "    print(f\"Sequence length: {seq_len} | Max length: {max_length} | Stride: {stride}\")  # Debugging\n",
    "    \n",
    "    nll_sum = 0.0\n",
    "    n_tokens = 0\n",
    "    prev_end_loc = 0\n",
    "\n",
    "    # Check how many iterations we will have based on stride\n",
    "    num_iterations = (seq_len // stride) + 1\n",
    "    print(f\"Number of iterations for perplexity calculation: {num_iterations}\")\n",
    "    \n",
    "    for begin_loc in tqdm(range(0, seq_len, stride)):\n",
    "        end_loc = min(begin_loc + max_length, seq_len)\n",
    "        trg_len = end_loc - prev_end_loc  # may be different from stride on last loop\n",
    "        input_ids = encodings.input_ids[:, begin_loc:end_loc].to(device)\n",
    "        target_ids = input_ids.clone()\n",
    "        target_ids[:, :-trg_len] = -100\n",
    "    \n",
    "        with torch.no_grad():\n",
    "            outputs = model(input_ids, labels=target_ids)\n",
    "            neg_log_likelihood = outputs.loss\n",
    "    \n",
    "        # Accumulate the total negative log-likelihood and the total number of tokens\n",
    "        num_valid_tokens = (target_ids != -100).sum().item()  # number of valid tokens in target_ids\n",
    "        batch_size = target_ids.size(0)\n",
    "        num_loss_tokens = num_valid_tokens - batch_size  # subtract batch_size due to internal label shift\n",
    "        nll_sum += neg_log_likelihood * num_loss_tokens\n",
    "        n_tokens += num_loss_tokens\n",
    "    \n",
    "        prev_end_loc = end_loc\n",
    "        if end_loc == seq_len:\n",
    "            break\n",
    "    \n",
    "    avg_nll = nll_sum / n_tokens  # average negative log-likelihood per token\n",
    "    ppl = torch.exp(avg_nll)\n",
    "    print(f\"Perplexity: {ppl.item():.2f}\")\n",
    "    return ppl.item()\n"
   ]
  },
  {
   "cell_type": "code",
   "execution_count": 12,
   "id": "84367fe8-56d9-411a-825d-17528ff7f6ad",
   "metadata": {},
   "outputs": [],
   "source": [
    "# Generation function\n",
    "def generate_text(model, tokenizer, prompt, num_samples=5, max_new_tokens=100, device='cuda'):\n",
    "    model.eval()\n",
    "    model.to(device)\n",
    "    samples = []\n",
    "\n",
    "    for _ in range(num_samples):\n",
    "        inputs = tokenizer(prompt, return_tensors=\"pt\", truncation=True, padding=True, max_length=512)\n",
    "        inputs = {k: v.to(device) for k, v in inputs.items()}\n",
    "        inputs['pad_token_id'] = tokenizer.pad_token_id\n",
    "\n",
    "        with torch.no_grad():\n",
    "            output = model.generate(\n",
    "                inputs['input_ids'],\n",
    "                attention_mask=inputs['attention_mask'],\n",
    "                pad_token_id=inputs['pad_token_id'],\n",
    "                max_new_tokens=max_new_tokens,\n",
    "                do_sample=True,\n",
    "                top_k=50,\n",
    "                top_p=0.95,\n",
    "                temperature=1.0,\n",
    "            )\n",
    "        text = tokenizer.decode(output[0], skip_special_tokens=True)\n",
    "        samples.append(text)\n",
    "\n",
    "    return samples\n"
   ]
  },
  {
   "cell_type": "code",
   "execution_count": 13,
   "id": "0321672e-4990-48fa-aafa-3a5ddcce6406",
   "metadata": {},
   "outputs": [
    {
     "name": "stdout",
     "output_type": "stream",
     "text": [
      "\n",
      "--- Scaling factor: -1.0 ---\n",
      "Sequence length: 287644 | Max length: 1024 | Stride: 512\n",
      "Number of iterations for perplexity calculation: 562\n"
     ]
    },
    {
     "name": "stderr",
     "output_type": "stream",
     "text": [
      "100%|███████████████████████████████████████████████████████████████████████████████▋| 560/562 [03:47<00:00,  2.46it/s]\n"
     ]
    },
    {
     "name": "stdout",
     "output_type": "stream",
     "text": [
      "Perplexity: 44.70\n",
      "\n",
      "--- Scaling factor: -0.9 ---\n",
      "Sequence length: 287644 | Max length: 1024 | Stride: 512\n",
      "Number of iterations for perplexity calculation: 562\n"
     ]
    },
    {
     "name": "stderr",
     "output_type": "stream",
     "text": [
      "100%|███████████████████████████████████████████████████████████████████████████████▋| 560/562 [06:12<00:01,  1.50it/s]\n"
     ]
    },
    {
     "name": "stdout",
     "output_type": "stream",
     "text": [
      "Perplexity: 40.04\n",
      "\n",
      "--- Scaling factor: -0.8 ---\n",
      "Sequence length: 287644 | Max length: 1024 | Stride: 512\n",
      "Number of iterations for perplexity calculation: 562\n"
     ]
    },
    {
     "name": "stderr",
     "output_type": "stream",
     "text": [
      "100%|███████████████████████████████████████████████████████████████████████████████▋| 560/562 [06:12<00:01,  1.50it/s]\n"
     ]
    },
    {
     "name": "stdout",
     "output_type": "stream",
     "text": [
      "Perplexity: 36.40\n",
      "\n",
      "--- Scaling factor: -0.7 ---\n",
      "Sequence length: 287644 | Max length: 1024 | Stride: 512\n",
      "Number of iterations for perplexity calculation: 562\n"
     ]
    },
    {
     "name": "stderr",
     "output_type": "stream",
     "text": [
      "100%|███████████████████████████████████████████████████████████████████████████████▋| 560/562 [06:12<00:01,  1.50it/s]\n"
     ]
    },
    {
     "name": "stdout",
     "output_type": "stream",
     "text": [
      "Perplexity: 33.58\n",
      "\n",
      "--- Scaling factor: -0.6 ---\n",
      "Sequence length: 287644 | Max length: 1024 | Stride: 512\n",
      "Number of iterations for perplexity calculation: 562\n"
     ]
    },
    {
     "name": "stderr",
     "output_type": "stream",
     "text": [
      "100%|███████████████████████████████████████████████████████████████████████████████▋| 560/562 [06:12<00:01,  1.50it/s]\n"
     ]
    },
    {
     "name": "stdout",
     "output_type": "stream",
     "text": [
      "Perplexity: 31.39\n",
      "\n",
      "--- Scaling factor: -0.5 ---\n",
      "Sequence length: 287644 | Max length: 1024 | Stride: 512\n",
      "Number of iterations for perplexity calculation: 562\n"
     ]
    },
    {
     "name": "stderr",
     "output_type": "stream",
     "text": [
      "100%|███████████████████████████████████████████████████████████████████████████████▋| 560/562 [06:12<00:01,  1.50it/s]\n"
     ]
    },
    {
     "name": "stdout",
     "output_type": "stream",
     "text": [
      "Perplexity: 29.66\n",
      "\n",
      "--- Scaling factor: -0.4 ---\n",
      "Sequence length: 287644 | Max length: 1024 | Stride: 512\n",
      "Number of iterations for perplexity calculation: 562\n"
     ]
    },
    {
     "name": "stderr",
     "output_type": "stream",
     "text": [
      "100%|███████████████████████████████████████████████████████████████████████████████▋| 560/562 [06:12<00:01,  1.50it/s]\n"
     ]
    },
    {
     "name": "stdout",
     "output_type": "stream",
     "text": [
      "Perplexity: 28.27\n",
      "\n",
      "--- Scaling factor: -0.3 ---\n",
      "Sequence length: 287644 | Max length: 1024 | Stride: 512\n",
      "Number of iterations for perplexity calculation: 562\n"
     ]
    },
    {
     "name": "stderr",
     "output_type": "stream",
     "text": [
      "100%|███████████████████████████████████████████████████████████████████████████████▋| 560/562 [06:13<00:01,  1.50it/s]\n"
     ]
    },
    {
     "name": "stdout",
     "output_type": "stream",
     "text": [
      "Perplexity: 27.15\n",
      "\n",
      "--- Scaling factor: -0.2 ---\n",
      "Sequence length: 287644 | Max length: 1024 | Stride: 512\n",
      "Number of iterations for perplexity calculation: 562\n"
     ]
    },
    {
     "name": "stderr",
     "output_type": "stream",
     "text": [
      "100%|███████████████████████████████████████████████████████████████████████████████▋| 560/562 [06:12<00:01,  1.50it/s]\n"
     ]
    },
    {
     "name": "stdout",
     "output_type": "stream",
     "text": [
      "Perplexity: 26.27\n",
      "\n",
      "--- Scaling factor: -0.1 ---\n",
      "Sequence length: 287644 | Max length: 1024 | Stride: 512\n",
      "Number of iterations for perplexity calculation: 562\n"
     ]
    },
    {
     "name": "stderr",
     "output_type": "stream",
     "text": [
      "100%|███████████████████████████████████████████████████████████████████████████████▋| 560/562 [06:12<00:01,  1.50it/s]\n"
     ]
    },
    {
     "name": "stdout",
     "output_type": "stream",
     "text": [
      "Perplexity: 25.61\n",
      "\n",
      "--- Scaling factor: -0.0 ---\n",
      "Sequence length: 287644 | Max length: 1024 | Stride: 512\n",
      "Number of iterations for perplexity calculation: 562\n"
     ]
    },
    {
     "name": "stderr",
     "output_type": "stream",
     "text": [
      "100%|███████████████████████████████████████████████████████████████████████████████▋| 560/562 [06:12<00:01,  1.50it/s]\n"
     ]
    },
    {
     "name": "stdout",
     "output_type": "stream",
     "text": [
      "Perplexity: 25.17\n",
      "\n",
      "--- Scaling factor: 0.1 ---\n",
      "Sequence length: 287644 | Max length: 1024 | Stride: 512\n",
      "Number of iterations for perplexity calculation: 562\n"
     ]
    },
    {
     "name": "stderr",
     "output_type": "stream",
     "text": [
      "100%|███████████████████████████████████████████████████████████████████████████████▋| 560/562 [06:12<00:01,  1.51it/s]\n"
     ]
    },
    {
     "name": "stdout",
     "output_type": "stream",
     "text": [
      "Perplexity: 24.96\n",
      "\n",
      "--- Scaling factor: 0.2 ---\n",
      "Sequence length: 287644 | Max length: 1024 | Stride: 512\n",
      "Number of iterations for perplexity calculation: 562\n"
     ]
    },
    {
     "name": "stderr",
     "output_type": "stream",
     "text": [
      "100%|███████████████████████████████████████████████████████████████████████████████▋| 560/562 [06:12<00:01,  1.50it/s]\n"
     ]
    },
    {
     "name": "stdout",
     "output_type": "stream",
     "text": [
      "Perplexity: 24.98\n",
      "\n",
      "--- Scaling factor: 0.3 ---\n",
      "Sequence length: 287644 | Max length: 1024 | Stride: 512\n",
      "Number of iterations for perplexity calculation: 562\n"
     ]
    },
    {
     "name": "stderr",
     "output_type": "stream",
     "text": [
      "100%|███████████████████████████████████████████████████████████████████████████████▋| 560/562 [06:11<00:01,  1.51it/s]\n"
     ]
    },
    {
     "name": "stdout",
     "output_type": "stream",
     "text": [
      "Perplexity: 25.22\n",
      "\n",
      "--- Scaling factor: 0.4 ---\n",
      "Sequence length: 287644 | Max length: 1024 | Stride: 512\n",
      "Number of iterations for perplexity calculation: 562\n"
     ]
    },
    {
     "name": "stderr",
     "output_type": "stream",
     "text": [
      "100%|███████████████████████████████████████████████████████████████████████████████▋| 560/562 [06:11<00:01,  1.51it/s]\n"
     ]
    },
    {
     "name": "stdout",
     "output_type": "stream",
     "text": [
      "Perplexity: 25.69\n",
      "\n",
      "--- Scaling factor: 0.5 ---\n",
      "Sequence length: 287644 | Max length: 1024 | Stride: 512\n",
      "Number of iterations for perplexity calculation: 562\n"
     ]
    },
    {
     "name": "stderr",
     "output_type": "stream",
     "text": [
      "100%|███████████████████████████████████████████████████████████████████████████████▋| 560/562 [06:12<00:01,  1.50it/s]\n"
     ]
    },
    {
     "name": "stdout",
     "output_type": "stream",
     "text": [
      "Perplexity: 26.39\n",
      "\n",
      "--- Scaling factor: 0.6 ---\n",
      "Sequence length: 287644 | Max length: 1024 | Stride: 512\n",
      "Number of iterations for perplexity calculation: 562\n"
     ]
    },
    {
     "name": "stderr",
     "output_type": "stream",
     "text": [
      "100%|███████████████████████████████████████████████████████████████████████████████▋| 560/562 [06:12<00:01,  1.50it/s]\n"
     ]
    },
    {
     "name": "stdout",
     "output_type": "stream",
     "text": [
      "Perplexity: 27.38\n",
      "\n",
      "--- Scaling factor: 0.7 ---\n",
      "Sequence length: 287644 | Max length: 1024 | Stride: 512\n",
      "Number of iterations for perplexity calculation: 562\n"
     ]
    },
    {
     "name": "stderr",
     "output_type": "stream",
     "text": [
      "100%|███████████████████████████████████████████████████████████████████████████████▋| 560/562 [06:12<00:01,  1.50it/s]\n"
     ]
    },
    {
     "name": "stdout",
     "output_type": "stream",
     "text": [
      "Perplexity: 28.78\n",
      "\n",
      "--- Scaling factor: 0.8 ---\n",
      "Sequence length: 287644 | Max length: 1024 | Stride: 512\n",
      "Number of iterations for perplexity calculation: 562\n"
     ]
    },
    {
     "name": "stderr",
     "output_type": "stream",
     "text": [
      "100%|███████████████████████████████████████████████████████████████████████████████▋| 560/562 [06:13<00:01,  1.50it/s]\n"
     ]
    },
    {
     "name": "stdout",
     "output_type": "stream",
     "text": [
      "Perplexity: 30.87\n",
      "\n",
      "--- Scaling factor: 0.9 ---\n",
      "Sequence length: 287644 | Max length: 1024 | Stride: 512\n",
      "Number of iterations for perplexity calculation: 562\n"
     ]
    },
    {
     "name": "stderr",
     "output_type": "stream",
     "text": [
      "100%|███████████████████████████████████████████████████████████████████████████████▋| 560/562 [06:12<00:01,  1.50it/s]\n"
     ]
    },
    {
     "name": "stdout",
     "output_type": "stream",
     "text": [
      "Perplexity: 34.03\n",
      "\n",
      "--- Scaling factor: 1.0 ---\n",
      "Sequence length: 287644 | Max length: 1024 | Stride: 512\n",
      "Number of iterations for perplexity calculation: 562\n"
     ]
    },
    {
     "name": "stderr",
     "output_type": "stream",
     "text": [
      "100%|███████████████████████████████████████████████████████████████████████████████▋| 560/562 [06:13<00:01,  1.50it/s]"
     ]
    },
    {
     "name": "stdout",
     "output_type": "stream",
     "text": [
      "Perplexity: 38.77\n",
      "Results saved to wikitext_ppl_results.csv\n"
     ]
    },
    {
     "name": "stderr",
     "output_type": "stream",
     "text": [
      "\n"
     ]
    }
   ],
   "source": [
    "\"\"\"calculate ppl replication\"\"\"\n",
    "from copy import deepcopy\n",
    "import pandas as pd\n",
    "\n",
    "# Load base model just once\n",
    "base_model = AutoModelForCausalLM.from_pretrained(model_id).to(device)\n",
    "\n",
    "# Store results\n",
    "neg_to_pos_ppl_results = []\n",
    "\n",
    "for scale in scaling_factors:\n",
    "    print(f\"\\n--- Scaling factor: {scale:.1f} ---\")\n",
    "\n",
    "    # Clone base model and apply task vector scaling\n",
    "    scaled_model = AutoModelForCausalLM.from_pretrained(model_id).to(device)\n",
    "    task_vector.apply_to(scaled_model, scaling_coef=scale)\n",
    "\n",
    "    # Calculate perplexity on Wikitext test set\n",
    "    ppl = calculate_perplexity(scaled_model, tokenizer, encodings, device)\n",
    "\n",
    "    # Store results for each scaling factor\n",
    "    neg_to_pos_ppl_results.append((scale, ppl))\n",
    "\n",
    "# Convert results to a DataFrame and save\n",
    "ppl_df = pd.DataFrame(neg_to_pos_ppl_results, columns=['scaling_factor', 'ppl'])\n",
    "ppl_df.to_csv(\"test_wikitext_ppl_results.csv\", index=False)\n",
    "\n",
    "print(\"Results saved to wikitext_ppl_results.csv\")\n"
   ]
  },
  {
   "cell_type": "code",
   "execution_count": 14,
   "id": "bca325ad-61a0-43db-a8aa-402e164dd794",
   "metadata": {},
   "outputs": [
    {
     "data": {
      "image/png": "[encoded data removed]",
      "text/plain": [
       "<Figure size 800x600 with 1 Axes>"
      ]
     },
     "metadata": {},
     "output_type": "display_data"
    }
   ],
   "source": [
    "\"\"\"visaulize ppl\"\"\"\n",
    "import matplotlib.pyplot as plt\n",
    "import pandas as pd\n",
    "\n",
    "# Load the saved CSV file into a DataFrame\n",
    "ppl_df = pd.read_csv(\"test_wikitext_ppl_results.csv\")\n",
    "\n",
    "# Filter for scaling_factor >= -0.5\n",
    "#filtered_df = ppl_df[ppl_df['scaling_factor'] >= -0.5]\n",
    "filtered_df = ppl_df[(ppl_df[\"scaling_factor\"]>= -1.0) & (ppl_df[\"scaling_factor\"] <= 1.0)]\n",
    "\n",
    "# Assuming the DataFrame has columns named 'scale' and 'perplexity'\n",
    "scaling_factors_pos = ppl_df['scaling_factor'] #<---- needs to change to ppl_df to remove filter\n",
    "perplexities_pos = ppl_df['ppl'] #<---- needs to change to ppl_df to remove filter\n",
    "\n",
    "# Create the plot\n",
    "plt.figure(figsize=(8, 6))\n",
    "plt.plot(scaling_factors_pos, perplexities_pos, marker='o', color='b', label=\"Task Vector Perplexity (replication_experiment)\")\n",
    "plt.title(\"Perplexity vs Scaling Factor (Task Vector -1 to 1)\", fontsize=16)\n",
    "plt.xlabel(\"Scaling Factor\", fontsize=12)\n",
    "plt.ylabel(\"Perplexity\", fontsize=12)\n",
    "plt.grid(True)\n",
    "plt.legend()\n",
    "\n",
    "# Save the plot\n",
    "plt.savefig(\"test_ppl_plot_replication_full_scale.png\", dpi=300)\n",
    "\n",
    "plt.show()"
   ]
  },
  {
   "cell_type": "code",
   "execution_count": 15,
   "id": "7ddbae7f-4341-44a1-83aa-1da6e074930c",
   "metadata": {},
   "outputs": [
    {
     "name": "stdout",
     "output_type": "stream",
     "text": [
      "File saved as test_wikitext_ppl_results_sorted.csv\n"
     ]
    }
   ],
   "source": [
    "import pandas as pd\n",
    "\n",
    "# Load the CSV file\n",
    "file_path = \"test_wikitext_ppl_results.csv\"\n",
    "df = pd.read_csv(file_path)\n",
    "\n",
    "# Round the 'scaling_factor' to the nearest one-decimal place and the ppl to 2 decimal places\n",
    "df['scaling_factor'] = df['scaling_factor'].round(1)\n",
    "df['ppl'] = df['ppl'].round(2)\n",
    "\n",
    "# Sort the dataframe based on 'scaling_factor' from -1.0 to 1.0\n",
    "df = df.sort_values(by='scaling_factor', ascending=True)\n",
    "\n",
    "# Save the modified CSV to a new file\n",
    "output_file_path = \"test_wikitext_ppl_results_sorted.csv\"\n",
    "df.to_csv(output_file_path, index=False)\n",
    "\n",
    "print(f\"File saved as {output_file_path}\")\n"
   ]
  },
  {
   "cell_type": "code",
   "execution_count": 16,
   "id": "cc1097b4-d547-4317-80d5-366ce7e6a22c",
   "metadata": {},
   "outputs": [
    {
     "name": "stdout",
     "output_type": "stream",
     "text": [
      "Scaling Factor | Perplexity (PPL)\n",
      "----------------|----------------\n",
      "-1.0           | 44.7\n",
      "-0.9           | 40.04\n",
      "-0.8           | 36.4\n",
      "-0.7           | 33.58\n",
      "-0.6           | 31.39\n",
      "-0.5           | 29.66\n",
      "-0.4           | 28.27\n",
      "-0.3           | 27.15\n",
      "-0.2           | 26.27\n",
      "-0.1           | 25.61\n",
      "-0.0           | 25.17\n",
      "0.1           | 24.96\n",
      "0.2           | 24.98\n",
      "0.3           | 25.22\n",
      "0.4           | 25.69\n",
      "0.5           | 26.39\n",
      "0.6           | 27.38\n",
      "0.7           | 28.78\n",
      "0.8           | 30.87\n",
      "0.9           | 34.03\n",
      "1.0           | 38.77\n"
     ]
    }
   ],
   "source": [
    "import pandas as pd\n",
    "\n",
    "# Load your CSV file\n",
    "df = pd.read_csv(\"test_wikitext_ppl_results_sorted.csv\")\n",
    "\n",
    "# Print the scores (scaling_factor and perplexity values)\n",
    "print(\"Scaling Factor | Perplexity (PPL)\")\n",
    "print(\"----------------|----------------\")\n",
    "\n",
    "# Loop through the DataFrame and print the scaling factor and perplexity\n",
    "for index, row in df.iterrows():\n",
    "    print(f\"{row['scaling_factor']}           | {row['ppl']}\")"
   ]
  },
  {
   "cell_type": "code",
   "execution_count": 17,
   "id": "194a7197-de8b-4efc-bc27-8ada449af83c",
   "metadata": {},
   "outputs": [
    {
     "name": "stdout",
     "output_type": "stream",
     "text": [
      "Scaling Factor | Perplexity (PPL) | Span from 0.0\n",
      "----------------|------------------|----------------\n",
      "-1.0           | 44.7           | 19.53\n",
      "-0.9           | 40.04           | 14.87\n",
      "-0.8           | 36.4           | 11.23\n",
      "-0.7           | 33.58           | 8.41\n",
      "-0.6           | 31.39           | 6.22\n",
      "-0.5           | 29.66           | 4.49\n",
      "-0.4           | 28.27           | 3.10\n",
      "-0.3           | 27.15           | 1.98\n",
      "-0.2           | 26.27           | 1.10\n",
      "-0.1           | 25.61           | 0.44\n",
      "-0.0           | 25.17           | 0.00\n",
      "0.1           | 24.96           | -0.21\n",
      "0.2           | 24.98           | -0.19\n",
      "0.3           | 25.22           | 0.05\n",
      "0.4           | 25.69           | 0.52\n",
      "0.5           | 26.39           | 1.22\n",
      "0.6           | 27.38           | 2.21\n",
      "0.7           | 28.78           | 3.61\n",
      "0.8           | 30.87           | 5.70\n",
      "0.9           | 34.03           | 8.86\n",
      "1.0           | 38.77           | 13.60\n"
     ]
    }
   ],
   "source": [
    "import pandas as pd\n",
    "\n",
    "# Load your CSV file\n",
    "df = pd.read_csv(\"test_wikitext_ppl_results_sorted.csv\")\n",
    "\n",
    "# Find the perplexity score at scaling_factor 0.0\n",
    "ppl_at_0 = df[df['scaling_factor'] == 0.0]['ppl'].values[0]\n",
    "\n",
    "# Add a new column for the span (difference) relative to scaling_factor 0.0\n",
    "df['span_from_0'] = df['ppl'] - ppl_at_0\n",
    "\n",
    "# Print the results\n",
    "print(\"Scaling Factor | Perplexity (PPL) | Span from 0.0\")\n",
    "print(\"----------------|------------------|----------------\")\n",
    "\n",
    "# Loop through the DataFrame and print the scaling factor, perplexity, and span\n",
    "for index, row in df.iterrows():\n",
    "    print(f\"{row['scaling_factor']}           | {row['ppl']}           | {row['span_from_0']:.2f}\")\n"
   ]
  }
 ],
 "metadata": {
  "kernelspec": {
   "display_name": "Python 3 (ipykernel)",
   "language": "python",
   "name": "python3"
  },
  "language_info": {
   "codemirror_mode": {
    "name": "ipython",
    "version": 3
   },
   "file_extension": ".py",
   "mimetype": "text/x-python",
   "name": "python",
   "nbconvert_exporter": "python",
   "pygments_lexer": "ipython3",
   "version": "3.11.9"
  }
 },
 "nbformat": 4,
 "nbformat_minor": 5
}
