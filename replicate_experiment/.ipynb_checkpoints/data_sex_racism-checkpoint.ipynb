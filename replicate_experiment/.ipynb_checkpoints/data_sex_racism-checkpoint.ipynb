{
 "cells": [
  {
   "cell_type": "code",
   "execution_count": null,
   "id": "d6ad7150-7860-4b40-88d1-c060de8a8d2c",
   "metadata": {},
   "outputs": [],
   "source": []
  },
  {
   "cell_type": "code",
   "execution_count": null,
   "id": "25729c3d-3cca-46ba-974d-83ca0f6556a0",
   "metadata": {},
   "outputs": [],
   "source": [
    "\"\"\"filter data to generate two new vectors\"\"\"\n",
    "import pandas as pd\n",
    "\n",
    "# Load your dataset\n",
    "df = pd.read_csv(\"./path_to_file\")\n",
    "\n",
    "# Set thresholds for strong bias/toxicity (adjust if needed)\n",
    "threshold_high = 0.8\n",
    "threshold_low = 0.2\n",
    "\n",
    "# --- Subset 1: Comments biased toward women (anti-male or pro-female) ---\n",
    "biased_toward_women = df[\n",
    "    (df['female'] >= threshold_high) & \n",
    "    (df['male'] <= threshold_low)\n",
    "]\n",
    "\n",
    "# --- Subset 2: Comments biased toward Black people (racially toxic) ---\n",
    "biased_toward_black = df[\n",
    "    (df['black'] >= threshold_high) & \n",
    "    (df['white'] <= threshold_low)\n",
    "]\n",
    "\n",
    "# Preview counts\n",
    "print(f\"Comments biased toward women: {len(biased_toward_women)}\")\n",
    "print(f\"Comments biased toward Black people: {len(biased_toward_black)}\")\n",
    "\n",
    "# Save to new CSVs (optional)\n",
    "biased_toward_women[['comment_text']].to_csv(\"biased_women.csv\", index=False)\n",
    "biased_toward_black[['comment_text']].to_csv(\"biased_black.csv\", index=False)\n"
   ]
  }
 ],
 "metadata": {
  "kernelspec": {
   "display_name": "Python 3 (ipykernel)",
   "language": "python",
   "name": "python3"
  },
  "language_info": {
   "codemirror_mode": {
    "name": "ipython",
    "version": 3
   },
   "file_extension": ".py",
   "mimetype": "text/x-python",
   "name": "python",
   "nbconvert_exporter": "python",
   "pygments_lexer": "ipython3",
   "version": "3.11.9"
  }
 },
 "nbformat": 4,
 "nbformat_minor": 5
}
